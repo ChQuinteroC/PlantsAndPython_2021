{
 "cells": [
  {
   "cell_type": "code",
   "execution_count": null,
   "id": "9fcf520b",
   "metadata": {},
   "outputs": [],
   "source": [
    "import numpy as np\n",
    "import pandas as pd\n",
    "from matplotlib import pyplot as plt\n",
    "#Gradient Boosting model\n",
    "# test classification dataset\n",
    "from sklearn.datasets import make_classification\n",
    "# evaluate gradient boosting algorithm for classification\n",
    "from numpy import mean\n",
    "from numpy import std\n",
    "from sklearn.datasets import make_classification\n",
    "from sklearn.model_selection import cross_val_score\n",
    "from sklearn.model_selection import RepeatedStratifiedKFold\n",
    "from sklearn.ensemble import GradientBoostingClassifier\n",
    "from sklearn.metrics import classification_report\n",
    "from sklearn.model_selection import KFold\n",
    "from sklearn.preprocessing import LabelEncoder\n",
    "urlfile=\"https://raw.githubusercontent.com/DanChitwood/PlantsAndPython_2021/main/Machine%20Learning/result_table_100_24_tissues.csv\"\n",
    "\n",
    "df = pd.read_csv(urlfile)\n",
    "# Extract Tissue column\n",
    "labels = df[\"Tissue\"].values\n",
    "\n",
    "label_encoder = LabelEncoder().fit(np.unique(labels))\n",
    "df['Tissue'] = label_encoder.transform(labels)"
   ]
  },
  {
   "cell_type": "code",
   "execution_count": null,
   "id": "53623b4a",
   "metadata": {},
   "outputs": [],
   "source": [
    "df.head()\n"
   ]
  },
  {
   "cell_type": "code",
   "execution_count": null,
   "id": "92920864",
   "metadata": {},
   "outputs": [],
   "source": [
    "#assign X and Y variables\n",
    "X = df.iloc[:, 2:102].values\n",
    "y = df.iloc[:, 102].values\n",
    "\n",
    "#Define features\n",
    "kf = KFold(n_splits=5,random_state=42,shuffle=True)\n",
    "train_percent = 0.75\n",
    "# create training and testing subsets\n",
    "train = np.random.choice(a=[True, False], size=len(y), p=[train_percent, 1-train_percent])\n",
    "test = np.invert(train)\n",
    "for train_index,val_index in kf.split(X):\n",
    "    X_train,X_test = X[train],X[test],\n",
    "    y_train,y_test = y[train],y[test]"
   ]
  },
  {
   "cell_type": "code",
   "execution_count": null,
   "id": "7b8129cf",
   "metadata": {},
   "outputs": [],
   "source": [
    "#Model    \n",
    "gradient_booster = GradientBoostingClassifier(learning_rate=0.1, max_depth=20, random_state=10)"
   ]
  },
  {
   "cell_type": "code",
   "execution_count": null,
   "id": "e63c59cf",
   "metadata": {},
   "outputs": [],
   "source": [
    "#fit the model\n",
    "GB_fit=gradient_booster.fit(X_train,y_train)\n",
    "#Accuracy\n",
    "print(classification_report(y_test,gradient_booster.predict(X_test)))"
   ]
  },
  {
   "cell_type": "code",
   "execution_count": null,
   "id": "56fea43c",
   "metadata": {},
   "outputs": [],
   "source": [
    "#Visualizing\n",
    "plt.figure(figsize=(12,8)) \n",
    "tree.plot_tree(GB_fit, filled=True, fontsize=10)\n",
    "plt.show()"
   ]
  }
 ],
 "metadata": {
  "kernelspec": {
   "display_name": "Python 3",
   "language": "python",
   "name": "python3"
  },
  "language_info": {
   "codemirror_mode": {
    "name": "ipython",
    "version": 3
   },
   "file_extension": ".py",
   "mimetype": "text/x-python",
   "name": "python",
   "nbconvert_exporter": "python",
   "pygments_lexer": "ipython3",
   "version": "3.8.8"
  }
 },
 "nbformat": 4,
 "nbformat_minor": 5
}
