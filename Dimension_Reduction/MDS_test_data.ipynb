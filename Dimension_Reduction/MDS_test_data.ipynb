{
 "cells": [
  {
   "cell_type": "code",
   "execution_count": 1,
   "id": "c8604709",
   "metadata": {},
   "outputs": [],
   "source": [
    "# Import libraries\n",
    "import numpy as np\n",
    "import pandas as pd\n",
    "from sklearn.datasets import load_iris\n",
    "import matplotlib.pyplot as plt\n",
    "from sklearn.manifold import MDS\n",
    "from sklearn.preprocessing import MinMaxScaler\n",
    "import seaborn as sns"
   ]
  },
  {
   "cell_type": "markdown",
   "id": "b4194b7f",
   "metadata": {},
   "source": [
    "## First a tutorial making MDS plots with the iris dataset"
   ]
  },
  {
   "cell_type": "code",
   "execution_count": 2,
   "id": "d6ab61bc",
   "metadata": {},
   "outputs": [],
   "source": [
    "# https://towardsdatascience.com/visualize-multidimensional-datasets-with-mds-64d7b4c16eaa\n",
    "# load in the data\n",
    "data = load_iris()\n",
    "X = data.data"
   ]
  },
  {
   "cell_type": "code",
   "execution_count": 3,
   "id": "2690ac81",
   "metadata": {},
   "outputs": [],
   "source": [
    "# 0-1 scaling\n",
    "scaler = MinMaxScaler()\n",
    "X_scaled = scaler.fit_transform(X)"
   ]
  },
  {
   "cell_type": "code",
   "execution_count": 4,
   "id": "3b2441ad",
   "metadata": {},
   "outputs": [],
   "source": [
    "# apply MDS to get a two-dimensional dataset\n",
    "mds = MDS(2,random_state=0)\n",
    "X_2d = mds.fit_transform(X_scaled)"
   ]
  },
  {
   "cell_type": "code",
   "execution_count": 5,
   "id": "901bacbd",
   "metadata": {},
   "outputs": [
    {
     "data": {
      "image/png": "[encoded data removed]",
      "text/plain": [
       "<Figure size 504x504 with 1 Axes>"
      ]
     },
     "metadata": {
      "needs_background": "light"
     },
     "output_type": "display_data"
    }
   ],
   "source": [
    "# plot the data\n",
    "colors = ['red','green','blue']\n",
    "plt.rcParams['figure.figsize'] = [7, 7]\n",
    "plt.rc('font', size=14)\n",
    "for i in np.unique(data.target):\n",
    "  subset = X_2d[data.target == i]\n",
    "  \n",
    "  x = [row[0] for row in subset]\n",
    "  y = [row[1] for row in subset]\n",
    "  plt.scatter(x,y,c=colors[i],label=data.target_names[i])\n",
    "plt.legend()\n",
    "plt.show()"
   ]
  },
  {
   "cell_type": "markdown",
   "id": "de760211",
   "metadata": {},
   "source": [
    "## Running MDS with our test data"
   ]
  },
  {
   "cell_type": "code",
   "execution_count": 6,
   "id": "f3c6fb27",
   "metadata": {},
   "outputs": [
    {
     "data": {
      "text/html": [
       "<div>\n",
       "<style scoped>\n",
       "    .dataframe tbody tr th:only-of-type {\n",
       "        vertical-align: middle;\n",
       "    }\n",
       "\n",
       "    .dataframe tbody tr th {\n",
       "        vertical-align: top;\n",
       "    }\n",
       "\n",
       "    .dataframe thead th {\n",
       "        text-align: right;\n",
       "    }\n",
       "</style>\n",
       "<table border=\"1\" class=\"dataframe\">\n",
       "  <thead>\n",
       "    <tr style=\"text-align: right;\">\n",
       "      <th></th>\n",
       "      <th>Sample</th>\n",
       "      <th>SampleName</th>\n",
       "      <th>AT1G22630</th>\n",
       "      <th>AT1G22620</th>\n",
       "      <th>AT1G22610</th>\n",
       "      <th>Tissue</th>\n",
       "      <th>Ecotype</th>\n",
       "      <th>Genotype</th>\n",
       "      <th>Treatment</th>\n",
       "      <th>Project</th>\n",
       "      <th>TotalReads</th>\n",
       "      <th>UniqueMappedRatio</th>\n",
       "      <th>ReleaseDate</th>\n",
       "    </tr>\n",
       "  </thead>\n",
       "  <tbody>\n",
       "    <tr>\n",
       "      <th>0</th>\n",
       "      <td>DRX007662</td>\n",
       "      <td>Arabidopsis WT-Col mRNA_seq</td>\n",
       "      <td>37.66</td>\n",
       "      <td>28.68</td>\n",
       "      <td>0.0</td>\n",
       "      <td>--</td>\n",
       "      <td>Col-0</td>\n",
       "      <td>wild type</td>\n",
       "      <td>--</td>\n",
       "      <td>PRJDB2180</td>\n",
       "      <td>30664389</td>\n",
       "      <td>0.8615</td>\n",
       "      <td>4/2/2014</td>\n",
       "    </tr>\n",
       "    <tr>\n",
       "      <th>1</th>\n",
       "      <td>DRX007663</td>\n",
       "      <td>Arabidopsis ibm1-4 mRNA_seq</td>\n",
       "      <td>35.22</td>\n",
       "      <td>30.74</td>\n",
       "      <td>0.0</td>\n",
       "      <td>--</td>\n",
       "      <td>Col-0</td>\n",
       "      <td>ibm1-4</td>\n",
       "      <td>--</td>\n",
       "      <td>PRJDB2180</td>\n",
       "      <td>38551905</td>\n",
       "      <td>0.9114</td>\n",
       "      <td>4/2/2014</td>\n",
       "    </tr>\n",
       "    <tr>\n",
       "      <th>2</th>\n",
       "      <td>DRX007664</td>\n",
       "      <td>Arabidopsis ibm2-2 mRNA_seq</td>\n",
       "      <td>33.39</td>\n",
       "      <td>28.81</td>\n",
       "      <td>0.0</td>\n",
       "      <td>--</td>\n",
       "      <td>Col-0</td>\n",
       "      <td>ibm2-2</td>\n",
       "      <td>--</td>\n",
       "      <td>PRJDB2180</td>\n",
       "      <td>37223057</td>\n",
       "      <td>0.8343</td>\n",
       "      <td>4/2/2014</td>\n",
       "    </tr>\n",
       "    <tr>\n",
       "      <th>3</th>\n",
       "      <td>DRX014481</td>\n",
       "      <td>Y1</td>\n",
       "      <td>8.22</td>\n",
       "      <td>21.83</td>\n",
       "      <td>0.0</td>\n",
       "      <td>root</td>\n",
       "      <td>--</td>\n",
       "      <td>wild type</td>\n",
       "      <td>--</td>\n",
       "      <td>PRJDB1593</td>\n",
       "      <td>95012910</td>\n",
       "      <td>0.8982</td>\n",
       "      <td>2/5/2016</td>\n",
       "    </tr>\n",
       "    <tr>\n",
       "      <th>4</th>\n",
       "      <td>DRX014482</td>\n",
       "      <td>Y2</td>\n",
       "      <td>8.53</td>\n",
       "      <td>26.05</td>\n",
       "      <td>0.0</td>\n",
       "      <td>root</td>\n",
       "      <td>--</td>\n",
       "      <td>wild type</td>\n",
       "      <td>--</td>\n",
       "      <td>PRJDB1593</td>\n",
       "      <td>163269003</td>\n",
       "      <td>0.9293</td>\n",
       "      <td>2/5/2016</td>\n",
       "    </tr>\n",
       "  </tbody>\n",
       "</table>\n",
       "</div>"
      ],
      "text/plain": [
       "      Sample                   SampleName  AT1G22630  AT1G22620  AT1G22610  \\\n",
       "0  DRX007662  Arabidopsis WT-Col mRNA_seq      37.66      28.68        0.0   \n",
       "1  DRX007663  Arabidopsis ibm1-4 mRNA_seq      35.22      30.74        0.0   \n",
       "2  DRX007664  Arabidopsis ibm2-2 mRNA_seq      33.39      28.81        0.0   \n",
       "3  DRX014481                           Y1       8.22      21.83        0.0   \n",
       "4  DRX014482                           Y2       8.53      26.05        0.0   \n",
       "\n",
       "  Tissue Ecotype   Genotype Treatment    Project  TotalReads  \\\n",
       "0     --   Col-0  wild type        --  PRJDB2180    30664389   \n",
       "1     --   Col-0     ibm1-4        --  PRJDB2180    38551905   \n",
       "2     --   Col-0     ibm2-2        --  PRJDB2180    37223057   \n",
       "3   root      --  wild type        --  PRJDB1593    95012910   \n",
       "4   root      --  wild type        --  PRJDB1593   163269003   \n",
       "\n",
       "   UniqueMappedRatio ReleaseDate  \n",
       "0             0.8615    4/2/2014  \n",
       "1             0.9114    4/2/2014  \n",
       "2             0.8343    4/2/2014  \n",
       "3             0.8982    2/5/2016  \n",
       "4             0.9293    2/5/2016  "
      ]
     },
     "execution_count": 6,
     "metadata": {},
     "output_type": "execute_result"
    }
   ],
   "source": [
    "test = pd.read_csv('result_table.csv')\n",
    "test.head()"
   ]
  },
  {
   "cell_type": "code",
   "execution_count": 7,
   "id": "a04e79c7",
   "metadata": {},
   "outputs": [
    {
     "data": {
      "text/plain": [
       "array(['root', 'whole plant', 'seedlings', 'leaves', 'rosette leaf'],\n",
       "      dtype=object)"
      ]
     },
     "execution_count": 7,
     "metadata": {},
     "output_type": "execute_result"
    }
   ],
   "source": [
    "# keep rows with only certain tissue types for now - this will change with the clean dataset\n",
    "test = test[(test == 'leaves').any(axis=1)|(test == 'root').any(axis=1)|(test == 'whole plant').any(axis=1)|(test == 'seedlings').any(axis=1)|(test == 'rosette leaf').any(axis=1)]\n",
    "test['Tissue'].unique()"
   ]
  },
  {
   "cell_type": "code",
   "execution_count": 8,
   "id": "6ca0b306",
   "metadata": {},
   "outputs": [
    {
     "data": {
      "text/plain": [
       "(2964, 13)"
      ]
     },
     "execution_count": 8,
     "metadata": {},
     "output_type": "execute_result"
    }
   ],
   "source": [
    "# taking a random 20% sample of the data to see if it speeds up processing time\n",
    "# also making a variable with the tissue column names to merge back in with the MDS dataframe later on\n",
    "test_tissue_20 = test.sample(frac=0.2, replace=False, random_state=1)\n",
    "sample_names = test_tissue_20[\"Tissue\"]\n",
    "test_tissue_20.shape\n",
    "#test_tissue_20.to_csv('data_subset.csv')"
   ]
  },
  {
   "cell_type": "code",
   "execution_count": 9,
   "id": "10c2609f",
   "metadata": {},
   "outputs": [
    {
     "data": {
      "text/plain": [
       "(2964, 3)"
      ]
     },
     "execution_count": 9,
     "metadata": {},
     "output_type": "execute_result"
    }
   ],
   "source": [
    "# transform data to contain only genes as columns and tissue types as rows\n",
    "# first, a dataframe with just tissue types for testing - this will definitely change w/ the entire data set\n",
    "test_tissue = test_tissue_20[['AT1G22630','AT1G22620','AT1G22610','Tissue']]\n",
    "test_tissue = test_tissue.set_index('Tissue')\n",
    "test_tissue = test_tissue.rename_axis('').rename_axis('Gene', axis='columns')\n",
    "test_tissue.head()\n",
    "test_tissue.shape"
   ]
  },
  {
   "cell_type": "code",
   "execution_count": 10,
   "id": "cc7b7f12",
   "metadata": {},
   "outputs": [
    {
     "data": {
      "text/html": [
       "<div>\n",
       "<style scoped>\n",
       "    .dataframe tbody tr th:only-of-type {\n",
       "        vertical-align: middle;\n",
       "    }\n",
       "\n",
       "    .dataframe tbody tr th {\n",
       "        vertical-align: top;\n",
       "    }\n",
       "\n",
       "    .dataframe thead th {\n",
       "        text-align: right;\n",
       "    }\n",
       "</style>\n",
       "<table border=\"1\" class=\"dataframe\">\n",
       "  <thead>\n",
       "    <tr style=\"text-align: right;\">\n",
       "      <th>Gene</th>\n",
       "      <th>AT1G22630</th>\n",
       "      <th>AT1G22620</th>\n",
       "      <th>AT1G22610</th>\n",
       "    </tr>\n",
       "    <tr>\n",
       "      <th></th>\n",
       "      <th></th>\n",
       "      <th></th>\n",
       "      <th></th>\n",
       "    </tr>\n",
       "  </thead>\n",
       "  <tbody>\n",
       "    <tr>\n",
       "      <th>seedlings</th>\n",
       "      <td>0.000000</td>\n",
       "      <td>0.000000</td>\n",
       "      <td>0.0</td>\n",
       "    </tr>\n",
       "    <tr>\n",
       "      <th>rosette leaf</th>\n",
       "      <td>4.137404</td>\n",
       "      <td>3.420673</td>\n",
       "      <td>0.0</td>\n",
       "    </tr>\n",
       "    <tr>\n",
       "      <th>seedlings</th>\n",
       "      <td>3.003700</td>\n",
       "      <td>3.628333</td>\n",
       "      <td>0.0</td>\n",
       "    </tr>\n",
       "    <tr>\n",
       "      <th>leaves</th>\n",
       "      <td>4.569128</td>\n",
       "      <td>3.209229</td>\n",
       "      <td>0.0</td>\n",
       "    </tr>\n",
       "    <tr>\n",
       "      <th>root</th>\n",
       "      <td>0.000000</td>\n",
       "      <td>2.814810</td>\n",
       "      <td>0.0</td>\n",
       "    </tr>\n",
       "  </tbody>\n",
       "</table>\n",
       "</div>"
      ],
      "text/plain": [
       "Gene          AT1G22630  AT1G22620  AT1G22610\n",
       "                                             \n",
       "seedlings      0.000000   0.000000        0.0\n",
       "rosette leaf   4.137404   3.420673        0.0\n",
       "seedlings      3.003700   3.628333        0.0\n",
       "leaves         4.569128   3.209229        0.0\n",
       "root           0.000000   2.814810        0.0"
      ]
     },
     "execution_count": 10,
     "metadata": {},
     "output_type": "execute_result"
    }
   ],
   "source": [
    "# Log transform data - do we need to do this? will the data cleaning group do any transformations?\n",
    "for c in [c for c in test_tissue.columns if np.issubdtype(test_tissue[c].dtype , np.number)]:\n",
    "    test_tissue[c] += 1\n",
    "for c in [c for c in test_tissue.columns if np.issubdtype(test_tissue[c].dtype , np.number)]:\n",
    "    test_tissue[c] = np.log(test_tissue[c])\n",
    "test_tissue.head()"
   ]
  },
  {
   "cell_type": "code",
   "execution_count": 11,
   "id": "a0591674",
   "metadata": {},
   "outputs": [],
   "source": [
    "# apply MDS to get a two-dimensional dataset\n",
    "mds = MDS(n_components=2, random_state=3)\n",
    "test_mds = mds.fit_transform(test_tissue)"
   ]
  },
  {
   "cell_type": "code",
   "execution_count": 12,
   "id": "335ffb42",
   "metadata": {},
   "outputs": [
    {
     "data": {
      "text/plain": [
       "(2964, 2)"
      ]
     },
     "execution_count": 12,
     "metadata": {},
     "output_type": "execute_result"
    }
   ],
   "source": [
    "# make dataframe with MDS values\n",
    "real_mds_df = pd.DataFrame(data = test_mds, columns = [\"MDS1\", \"MDS2\"])\n",
    "real_mds_df.shape"
   ]
  },
  {
   "cell_type": "code",
   "execution_count": 13,
   "id": "2f59e0a5",
   "metadata": {},
   "outputs": [
    {
     "data": {
      "text/plain": [
       "(2964,)"
      ]
     },
     "execution_count": 13,
     "metadata": {},
     "output_type": "execute_result"
    }
   ],
   "source": [
    "# check that tissue column is good\n",
    "sample_names.head()\n",
    "sample_names.shape"
   ]
  },
  {
   "cell_type": "code",
   "execution_count": 14,
   "id": "04ef858a",
   "metadata": {},
   "outputs": [
    {
     "data": {
      "text/html": [
       "<div>\n",
       "<style scoped>\n",
       "    .dataframe tbody tr th:only-of-type {\n",
       "        vertical-align: middle;\n",
       "    }\n",
       "\n",
       "    .dataframe tbody tr th {\n",
       "        vertical-align: top;\n",
       "    }\n",
       "\n",
       "    .dataframe thead th {\n",
       "        text-align: right;\n",
       "    }\n",
       "</style>\n",
       "<table border=\"1\" class=\"dataframe\">\n",
       "  <thead>\n",
       "    <tr style=\"text-align: right;\">\n",
       "      <th></th>\n",
       "      <th>Tissue</th>\n",
       "      <th>MDS1</th>\n",
       "      <th>MDS2</th>\n",
       "    </tr>\n",
       "  </thead>\n",
       "  <tbody>\n",
       "    <tr>\n",
       "      <th>0</th>\n",
       "      <td>seedlings</td>\n",
       "      <td>2.988634</td>\n",
       "      <td>3.593121</td>\n",
       "    </tr>\n",
       "    <tr>\n",
       "      <th>1</th>\n",
       "      <td>rosette leaf</td>\n",
       "      <td>-0.245533</td>\n",
       "      <td>-0.763257</td>\n",
       "    </tr>\n",
       "    <tr>\n",
       "      <th>2</th>\n",
       "      <td>seedlings</td>\n",
       "      <td>-0.206622</td>\n",
       "      <td>0.380678</td>\n",
       "    </tr>\n",
       "    <tr>\n",
       "      <th>3</th>\n",
       "      <td>leaves</td>\n",
       "      <td>-0.135179</td>\n",
       "      <td>-1.217801</td>\n",
       "    </tr>\n",
       "    <tr>\n",
       "      <th>4</th>\n",
       "      <td>root</td>\n",
       "      <td>0.955910</td>\n",
       "      <td>3.228670</td>\n",
       "    </tr>\n",
       "  </tbody>\n",
       "</table>\n",
       "</div>"
      ],
      "text/plain": [
       "         Tissue      MDS1      MDS2\n",
       "0     seedlings  2.988634  3.593121\n",
       "1  rosette leaf -0.245533 -0.763257\n",
       "2     seedlings -0.206622  0.380678\n",
       "3        leaves -0.135179 -1.217801\n",
       "4          root  0.955910  3.228670"
      ]
     },
     "execution_count": 14,
     "metadata": {},
     "output_type": "execute_result"
    }
   ],
   "source": [
    "# add tissue names back in\n",
    "real_mds_df.reset_index(drop=True, inplace=True)\n",
    "sample_names.reset_index(drop=True, inplace=True)\n",
    "final_real_df = pd.concat([sample_names, real_mds_df], axis = 1)\n",
    "final_real_df.head()"
   ]
  },
  {
   "cell_type": "code",
   "execution_count": 15,
   "id": "bd8fdeaf",
   "metadata": {},
   "outputs": [
    {
     "name": "stderr",
     "output_type": "stream",
     "text": [
      "/opt/anaconda3/lib/python3.8/site-packages/seaborn/_decorators.py:36: FutureWarning: Pass the following variables as keyword args: x, y. From version 0.12, the only valid positional argument will be `data`, and passing other arguments without an explicit keyword will result in an error or misinterpretation.\n",
      "  warnings.warn(\n"
     ]
    },
    {
     "data": {
      "text/plain": [
       "<seaborn.axisgrid.FacetGrid at 0x10cd570a0>"
      ]
     },
     "execution_count": 15,
     "metadata": {},
     "output_type": "execute_result"
    },
    {
     "data": {
      "image/png": "[encoded data removed]",
      "text/plain": [
       "<Figure size 852.275x720 with 1 Axes>"
      ]
     },
     "metadata": {
      "needs_background": "light"
     },
     "output_type": "display_data"
    }
   ],
   "source": [
    "# plot\n",
    "sns.lmplot('MDS1', 'MDS2', height=10, data=final_real_df, hue=\"Tissue\", fit_reg=False)\n",
    "#plt.savefig('plot.png')"
   ]
  },
  {
   "cell_type": "code",
   "execution_count": null,
   "id": "51b01846",
   "metadata": {},
   "outputs": [],
   "source": []
  }
 ],
 "metadata": {
  "kernelspec": {
   "display_name": "Python 3",
   "language": "python",
   "name": "python3"
  },
  "language_info": {
   "codemirror_mode": {
    "name": "ipython",
    "version": 3
   },
   "file_extension": ".py",
   "mimetype": "text/x-python",
   "name": "python",
   "nbconvert_exporter": "python",
   "pygments_lexer": "ipython3",
   "version": "3.8.8"
  }
 },
 "nbformat": 4,
 "nbformat_minor": 5
}
