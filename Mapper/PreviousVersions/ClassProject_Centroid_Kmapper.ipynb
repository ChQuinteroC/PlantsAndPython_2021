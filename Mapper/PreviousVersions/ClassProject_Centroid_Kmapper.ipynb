{
 "cells": [
  {
   "cell_type": "markdown",
   "metadata": {
    "id": "jFDzb40UH1XU"
   },
   "source": [
    "### _Arabidopsis_ gene sequence expression mapper graph with centroid lens"
   ]
  },
  {
   "cell_type": "markdown",
   "metadata": {
    "id": "-rbnML1QH1XY"
   },
   "source": [
    "**Imort useful packages / modules**"
   ]
  },
  {
   "cell_type": "code",
   "execution_count": 1,
   "metadata": {
    "executionInfo": {
     "elapsed": 1017,
     "status": "ok",
     "timestamp": 1636592762823,
     "user": {
      "displayName": "Francisco Xavier Guerra Castillo",
      "photoUrl": "https://lh3.googleusercontent.com/a-/AOh14GjfkQgX4GMVVK-GKnbq-93Kac4gZ2DDkg8STr_S1Q=s64",
      "userId": "03477141616928095839"
     },
     "user_tz": 360
    },
    "id": "jfcdSiLXH1XY"
   },
   "outputs": [],
   "source": [
    "# import sys\n",
    "import numpy as np\n",
    "import pandas as pd\n",
    "import matplotlib.pyplot as plt\n",
    "\n",
    "# ML tools\n",
    "from sklearn.cluster import DBSCAN\n",
    "from sklearn.preprocessing import MinMaxScaler\n",
    "from sklearn import ensemble\n",
    "\n",
    "# For output display\n",
    "from IPython.display import IFrame\n",
    "\n",
    "# # If running locally, set current directory as projdir\n",
    "# projdir = '.'"
   ]
  },
  {
   "cell_type": "markdown",
   "metadata": {},
   "source": [
    "**For google collab**"
   ]
  },
  {
   "cell_type": "code",
   "execution_count": 2,
   "metadata": {
    "id": "WEpUU6zvIDpQ"
   },
   "outputs": [],
   "source": [
    "# # Only if running in Google Colab..!!\n",
    "# # DO NOT run this cell if running locally - simply comment it out.\n",
    "# from google.colab import drive\n",
    "# drive.mount('/content/gdrive/')\n",
    "\n",
    "# projdir = '/content/gdrive/MyDrive/PlantsAndPython-2021-10-22'\n",
    "# sys.path.append(projdir)"
   ]
  },
  {
   "cell_type": "code",
   "execution_count": 3,
   "metadata": {
    "colab": {
     "base_uri": "https://localhost:8080/"
    },
    "executionInfo": {
     "elapsed": 145,
     "status": "ok",
     "timestamp": 1636578429919,
     "user": {
      "displayName": "Francisco Xavier Guerra Castillo",
      "photoUrl": "https://lh3.googleusercontent.com/a-/AOh14GjfkQgX4GMVVK-GKnbq-93Kac4gZ2DDkg8STr_S1Q=s64",
      "userId": "03477141616928095839"
     },
     "user_tz": 360
    },
    "id": "YmyySvYt6Nqv",
    "outputId": "67bc0a24-026c-42a8-c4da-2d901bd007f1",
    "scrolled": true
   },
   "outputs": [],
   "source": [
    "# # Make sure your last path is the one were you have this script and your data\n",
    "# sys.path"
   ]
  },
  {
   "cell_type": "markdown",
   "metadata": {},
   "source": [
    "**Modules from Sourabh's files**"
   ]
  },
  {
   "cell_type": "code",
   "execution_count": 4,
   "metadata": {
    "id": "bfVRuZwPIkAo"
   },
   "outputs": [],
   "source": [
    "# # import helper_functions\n",
    "# from helper_functions import loaddata # for data loading\n",
    "from helper_functions import colorscale_from_matplotlib_cmap # for kmapper color palette\n",
    "\n",
    "# # import Nicolaou et al. 2011 lense function\n",
    "# from lenses import fsga_transform\n",
    "\n",
    "# keppler mapper\n",
    "import kmapper as km"
   ]
  },
  {
   "cell_type": "markdown",
   "metadata": {},
   "source": [
    "**Import database**"
   ]
  },
  {
   "cell_type": "code",
   "execution_count": 5,
   "metadata": {
    "scrolled": false
   },
   "outputs": [
    {
     "name": "stderr",
     "output_type": "stream",
     "text": [
      "C:\\ProgramData\\Anaconda3\\lib\\site-packages\\IPython\\core\\interactiveshell.py:3165: DtypeWarning: Columns (4) have mixed types.Specify dtype option on import or set low_memory=False.\n",
      "  has_raised = await self.run_ast_nodes(code_ast.body, cell_name,\n"
     ]
    }
   ],
   "source": [
    "centroids = pd.read_csv(\"./metadata_centroids_1000genes_19642samples.csv\")\n",
    "# This database contains 1000 genes from the MapRateFiltered_v1.csv file in the CleanData HPCC directory\n",
    "# This database has tissue types labeled according to the hypothesis generation group classification\n",
    "# This database was made 24/Nov/21"
   ]
  },
  {
   "cell_type": "markdown",
   "metadata": {},
   "source": [
    "**Defining database as df**"
   ]
  },
  {
   "cell_type": "code",
   "execution_count": 6,
   "metadata": {},
   "outputs": [
    {
     "name": "stdout",
     "output_type": "stream",
     "text": [
      "The current dataframe name is: centroids\n",
      "rows, columns = (19642, 1041)\n",
      "number of elements = 20447322\n"
     ]
    }
   ],
   "source": [
    "df = centroids # set dataframe\n",
    "df_name = 'centroids'\n",
    "print(\"The current dataframe name is:\", df_name)\n",
    "print(\"rows, columns =\", df.shape)\n",
    "print(\"number of elements =\", df.size)"
   ]
  },
  {
   "cell_type": "markdown",
   "metadata": {},
   "source": [
    "**Subsetting gene expression columns**"
   ]
  },
  {
   "cell_type": "code",
   "execution_count": 25,
   "metadata": {},
   "outputs": [
    {
     "data": {
      "text/plain": [
       "500"
      ]
     },
     "execution_count": 25,
     "metadata": {},
     "output_type": "execute_result"
    }
   ],
   "source": [
    "genes = list(df.columns[40:540]) # create list with the gene names\n",
    "len(genes)"
   ]
  },
  {
   "cell_type": "markdown",
   "metadata": {},
   "source": [
    "**Set factors and factors levels**"
   ]
  },
  {
   "cell_type": "code",
   "execution_count": 8,
   "metadata": {},
   "outputs": [],
   "source": [
    "factors = ['Tissue','VegetativeRepro','AboveBelow']\n",
    "levels = ['Root','Root','Below']\n",
    "\n",
    "# filter_by_factor, filter_by_level = ('Tissue', 'Root')\n",
    "# filter_by_factor, filter_by_level = ('VegetativeRepro', 'Root')\n",
    "# filter_by_factor, filter_by_level = ('AboveBelow', 'Below')\n",
    "\n",
    "color_by_factor, color_by_level = ('Tissue', 'Root')\n",
    "# color_by_factor, color_by_level = ('VegetativeRepro', 'Root')\n",
    "# color_by_factor, color_by_level = ('AboveBelow', 'Below')"
   ]
  },
  {
   "cell_type": "markdown",
   "metadata": {
    "id": "MZXonrk2H1Xd"
   },
   "source": [
    "**Initialize a KeplerMapper object**"
   ]
  },
  {
   "cell_type": "code",
   "execution_count": 9,
   "metadata": {
    "colab": {
     "base_uri": "https://localhost:8080/"
    },
    "executionInfo": {
     "elapsed": 321,
     "status": "ok",
     "timestamp": 1636578994313,
     "user": {
      "displayName": "Francisco Xavier Guerra Castillo",
      "photoUrl": "https://lh3.googleusercontent.com/a-/AOh14GjfkQgX4GMVVK-GKnbq-93Kac4gZ2DDkg8STr_S1Q=s64",
      "userId": "03477141616928095839"
     },
     "user_tz": 360
    },
    "id": "icpI6pbgH1Xe",
    "outputId": "0cbe23be-1f5b-49ee-802b-e7b6225338d1"
   },
   "outputs": [
    {
     "name": "stdout",
     "output_type": "stream",
     "text": [
      "KeplerMapper(verbose=1)\n"
     ]
    }
   ],
   "source": [
    "# Initialize mapper object\n",
    "mymapper = km.KeplerMapper(verbose=1)\n",
    "\n",
    "# Define Nerve\n",
    "nerve = km.GraphNerve(min_intersection=1)"
   ]
  },
  {
   "cell_type": "markdown",
   "metadata": {
    "id": "shvxG8HrH1Xe"
   },
   "source": [
    "**Define lens**\n",
    "\n",
    "According to Dan's description: _\"take the centroid/median of each tissue cluster, and the lens is the eucledian distance of each sample to its respective tissue center\"_"
   ]
  },
  {
   "cell_type": "code",
   "execution_count": 10,
   "metadata": {},
   "outputs": [],
   "source": [
    "# Centroid lens\n",
    "Clens = df[\"eucl_dist\"] # the euclidean distances are found in the \"eucl_dist\" column\n",
    "lens_type = 'Centroid'\n",
    "# plt.plot(Clens) # plot the lens to see how well represents the data"
   ]
  },
  {
   "cell_type": "code",
   "execution_count": null,
   "metadata": {},
   "outputs": [],
   "source": [
    "# # Multiple centroids lens\n",
    "# CNTRDSlens = df.iloc[:, 20:22]\n",
    "# lens_type = \"MultipleCentroids\"\n",
    "# plt.plot(CNTRDSlens)"
   ]
  },
  {
   "cell_type": "markdown",
   "metadata": {
    "id": "szrY0K5qH1Xf"
   },
   "source": [
    "**Define cover:**\n",
    "\n",
    "Overlap must be between 0 and 100. Intervals must be less than 130."
   ]
  },
  {
   "cell_type": "code",
   "execution_count": 18,
   "metadata": {
    "id": "hu8AzP9hH1Xf"
   },
   "outputs": [],
   "source": [
    "# Define cover\n",
    "cubes, overlap = (100, 90) # cubes = intervals\n",
    "cover = km.cover.Cover(n_cubes=cubes, perc_overlap=overlap/100.)"
   ]
  },
  {
   "cell_type": "markdown",
   "metadata": {
    "id": "c2M_0muXH1Xf"
   },
   "source": [
    "**Define clustering algorithm:**\n",
    "\n",
    "DBSCAN with default parameters. Metric: correlation distance (1 - correlation) between a pair of gene expression profiles."
   ]
  },
  {
   "cell_type": "code",
   "execution_count": 19,
   "metadata": {
    "id": "UDq-vX0XH1Xg"
   },
   "outputs": [],
   "source": [
    "# Define clustering algorithm\n",
    "clust_metric = 'correlation'\n",
    "clusterer = DBSCAN(metric=clust_metric)"
   ]
  },
  {
   "cell_type": "markdown",
   "metadata": {
    "id": "umU9bjJfH1Xg"
   },
   "source": [
    "**Construct the mapper graph:**\n",
    "\n",
    "Keep an eye on the number of hypercubes, nodes and edges reported by the algorithm. You can change the graph size by changing the cover parameters."
   ]
  },
  {
   "cell_type": "code",
   "execution_count": 20,
   "metadata": {
    "colab": {
     "base_uri": "https://localhost:8080/"
    },
    "executionInfo": {
     "elapsed": 825,
     "status": "ok",
     "timestamp": 1636579004980,
     "user": {
      "displayName": "Francisco Xavier Guerra Castillo",
      "photoUrl": "https://lh3.googleusercontent.com/a-/AOh14GjfkQgX4GMVVK-GKnbq-93Kac4gZ2DDkg8STr_S1Q=s64",
      "userId": "03477141616928095839"
     },
     "user_tz": 360
    },
    "id": "szoA2D8_H1Xg",
    "outputId": "70c62cfb-bc32-4db5-fc32-a3c05cc9af99"
   },
   "outputs": [
    {
     "name": "stdout",
     "output_type": "stream",
     "text": [
      "Mapping on data shaped (19642, 3) using lens shaped (19642, 2)\n",
      "\n",
      "Creating 10000 hypercubes.\n",
      "Merged 714 duplicate nodes.\n",
      "\n",
      "Number of nodes before merger: 6121; after merger: 5407\n",
      "\n",
      "\n",
      "Created 171879 edges and 5407 nodes in 0:01:00.951479.\n"
     ]
    }
   ],
   "source": [
    "# Create mapper 'graph' with nodes, edges and meta-information.\n",
    "graph = mymapper.map(lens=Clens,\n",
    "                     X=df[genes],\n",
    "                     clusterer=clusterer,\n",
    "                     cover=cover,\n",
    "                     nerve=nerve,\n",
    "                     precomputed=False,\n",
    "                     remove_duplicate_nodes=True)"
   ]
  },
  {
   "cell_type": "markdown",
   "metadata": {
    "id": "6tEZ0UsiH1Xh"
   },
   "source": [
    "**Kmapper coloring**"
   ]
  },
  {
   "cell_type": "code",
   "execution_count": 21,
   "metadata": {
    "id": "1CkiBl_NH1Xh"
   },
   "outputs": [],
   "source": [
    "# Color nodes by specified color_by_factor, color_by_level\n",
    "\n",
    "df[color_by_factor] = df[color_by_factor].astype('category')\n",
    "color_vec = np.asarray([0 if(val == color_by_level) else 1 for val in df[color_by_factor]])\n",
    "cscale = colorscale_from_matplotlib_cmap(plt.get_cmap('coolwarm'))"
   ]
  },
  {
   "cell_type": "markdown",
   "metadata": {},
   "source": [
    "**Set coloring levels as kmapper tooltips**"
   ]
  },
  {
   "cell_type": "code",
   "execution_count": 22,
   "metadata": {
    "id": "_80gw1jOH1Xh"
   },
   "outputs": [],
   "source": [
    "# show color_by_factor levels in tooltip\n",
    "\n",
    "temp = ['({})'.format(str(p[0])) for p in zip(df[color_by_factor])]\n",
    "df['tooltips'] = temp"
   ]
  },
  {
   "cell_type": "markdown",
   "metadata": {
    "id": "Pr4T8JfCH1Xi"
   },
   "source": [
    "**Create and save kmapper graph as html**"
   ]
  },
  {
   "cell_type": "code",
   "execution_count": null,
   "metadata": {
    "colab": {
     "base_uri": "https://localhost:8080/",
     "height": 839
    },
    "executionInfo": {
     "elapsed": 4579,
     "status": "ok",
     "timestamp": 1636577897198,
     "user": {
      "displayName": "Damián Villaseñor Amador",
      "photoUrl": "https://lh3.googleusercontent.com/a-/AOh14Ggqk0xsm9537Ect6EKfhPX7AEk63wwoSTLmiDrW5A=s64",
      "userId": "18379377199811291117"
     },
     "user_tz": 360
    },
    "id": "z6_qiRPRH1Xi",
    "outputId": "5d0a7310-993e-4521-f96c-3041f157191b",
    "scrolled": true
   },
   "outputs": [],
   "source": [
    "# Specify file to save html output\n",
    "fname = 'LensType_{}_ColorBy_{}_Data_{}_Cubes_{}_Overlap_{}_Genes_{}.html'.format(lens_type,\n",
    "#                                                               filter_by_factor,\n",
    "                                                              color_by_factor,\n",
    "                                                              df_name,\n",
    "                                                              cubes,\n",
    "                                                              overlap,\n",
    "                                                              len(genes))\n",
    "\n",
    "figtitle = 'Lens type: {}, Color by {} ({}), Database: {}, intervals {}, overlap {}, genes {}'.format(lens_type,\n",
    "#                                                                                                               filter_by_factor,\n",
    "#                                                                                                               filter_by_level,\n",
    "                                                                                                              color_by_factor,\n",
    "                                                                                                              color_by_level,\n",
    "                                                                                                              df_name,\n",
    "                                                                                                              cubes, \n",
    "                                                                                                              overlap/100.0,\n",
    "                                                                                                              len(genes))\n",
    "\n",
    "fpath = './' + fname # is this synthax correct if I run it in the HPCC?\n",
    "\n",
    "# Create visualization and save to specified file\n",
    "_ = mymapper.visualize(graph,\n",
    "                       path_html=fpath,\n",
    "                       title=figtitle,\n",
    "                       color_values=color_vec,\n",
    "                       color_function_name=color_by_factor,\n",
    "                       colorscale=cscale,\n",
    "                       custom_tooltips=df['tooltips'])\n",
    "\n",
    "# Load the html output file\n",
    "IFrame(src=fpath, width=1000, height=800)"
   ]
  },
  {
   "cell_type": "code",
   "execution_count": null,
   "metadata": {},
   "outputs": [],
   "source": []
  }
 ],
 "metadata": {
  "colab": {
   "collapsed_sections": [],
   "name": "Arabidopsis_kmapper.ipynb",
   "provenance": []
  },
  "kernelspec": {
   "display_name": "Python 3",
   "language": "python",
   "name": "python3"
  },
  "language_info": {
   "codemirror_mode": {
    "name": "ipython",
    "version": 3
   },
   "file_extension": ".py",
   "mimetype": "text/x-python",
   "name": "python",
   "nbconvert_exporter": "python",
   "pygments_lexer": "ipython3",
   "version": "3.8.8"
  }
 },
 "nbformat": 4,
 "nbformat_minor": 1
}
