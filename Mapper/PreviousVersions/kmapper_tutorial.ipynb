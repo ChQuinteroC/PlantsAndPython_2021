{
 "cells": [
  {
   "cell_type": "markdown",
   "metadata": {},
   "source": [
    "# A Simple Mapper Tutorial\n",
    "\n",
    "This notebook will walk you through the basic steps of creating and visualizing a mapper graph.<br>\n",
    "We will use the python package called KeplerMapper.\n",
    "\n",
    "We can think of mapper as two-step clustering, guided by something called a *lens* or a *filter function*.<br>\n",
    "We use this *lens* to divide our data into smaller overlapping chunks (kmapper calls them cubes), i.e., a data point may fall into two or more chunks. This part of the process is called defining a *cover*.<br>\n",
    "Then we apply our favorite clustering algorithm to each chunk separately.<br>\n",
    "Lastly, we construct a graph where each node of the graph corresponds to a cluster from the earlier step. Two clusters that share one or more data points are connected by an edge in this graph.\n",
    "\n",
    "That's about it..!\n",
    "A lot of effort goes into defining the *lens* and the *cover*.<br>\n",
    "And as you'll see when you work through the notebook, the choice of *lens* and *cover* significantly impacts the output mapper graph."
   ]
  },
  {
   "cell_type": "markdown",
   "metadata": {},
   "source": [
    "### Installing KepplerMapper\n",
    "First, make sure you have KeplerMapper package installed.<br>\n",
    "Uncomment the lines from the next cell and run it. That should install the package for your current python kernel."
   ]
  },
  {
   "cell_type": "code",
   "execution_count": 1,
   "metadata": {},
   "outputs": [],
   "source": [
    "# # Install kepler-mapper package in the current Jupyter kernel\n",
    "# import sys\n",
    "# !{sys.executable} -m pip install kmapper"
   ]
  },
  {
   "cell_type": "markdown",
   "metadata": {},
   "source": [
    "### Import useful packages / modeules"
   ]
  },
  {
   "cell_type": "code",
   "execution_count": 2,
   "metadata": {},
   "outputs": [],
   "source": [
    "# keppler mapper\n",
    "import kmapper as km\n",
    "from kmapper import jupyter\n",
    "\n",
    "# for output display\n",
    "from IPython.display import IFrame\n",
    "\n",
    "import matplotlib.pyplot as plt\n",
    "\n",
    "# for sample datasets\n",
    "from sklearn import datasets"
   ]
  },
  {
   "cell_type": "markdown",
   "metadata": {},
   "source": [
    "### A toy dataset\n",
    "Here, we will create and visualize a simple dataset with 5000 points lying in concetric circles.<br>\n",
    "Try changing the noise and factor parameters and see what happens."
   ]
  },
  {
   "cell_type": "code",
   "execution_count": 3,
   "metadata": {
    "scrolled": false
   },
   "outputs": [
    {
     "data": {
      "text/plain": [
       "<matplotlib.collections.PathCollection at 0x7fd28b5ef430>"
      ]
     },
     "execution_count": 3,
     "metadata": {},
     "output_type": "execute_result"
    },
    {
     "data": {
      "image/png": "[encoded data removed]",
      "text/plain": [
       "<Figure size 432x288 with 1 Axes>"
      ]
     },
     "metadata": {
      "needs_background": "light"
     },
     "output_type": "display_data"
    }
   ],
   "source": [
    "# Load some sample data\n",
    "data, labels = datasets.make_circles(n_samples=5000, noise=0.03, factor=0.3)\n",
    "plt.scatter(data[:, 0], data[:, 1], c=labels)"
   ]
  },
  {
   "cell_type": "markdown",
   "metadata": {},
   "source": [
    "## Creating mapper graphs\n",
    "\n",
    "Our goal is to create a mapper graph that has two components - each corresponding to a circle.<br>\n",
    "The first step is to initialize a KeplerMapper object."
   ]
  },
  {
   "cell_type": "code",
   "execution_count": 4,
   "metadata": {},
   "outputs": [
    {
     "name": "stdout",
     "output_type": "stream",
     "text": [
      "KeplerMapper(verbose=1)\n"
     ]
    }
   ],
   "source": [
    "# Initialize mapper object\n",
    "mapper = km.KeplerMapper(verbose=1)"
   ]
  },
  {
   "cell_type": "markdown",
   "metadata": {},
   "source": [
    "### Define lens / filter function\n",
    "\n",
    "The lens function could be a scalar or a vector. We can simply use the x or y coordinates of the points. Or we can use something like the first or second principal component (or both..!!). We can also construct our own *lens* function. Just make sure it's a finite, real valued function. That is, each point in out dataset is assigned a finite real scalar or vector value."
   ]
  },
  {
   "cell_type": "code",
   "execution_count": 5,
   "metadata": {},
   "outputs": [
    {
     "name": "stdout",
     "output_type": "stream",
     "text": [
      "..Composing projection pipeline of length 1:\n",
      "\tProjections: [0, 1]\n",
      "\tDistance matrices: False\n",
      "\tScalers: MinMaxScaler()\n",
      "..Projecting on data shaped (5000, 2)\n",
      "\n",
      "..Projecting data using: [0, 1]\n",
      "\n",
      "..Scaling with: MinMaxScaler()\n",
      "\n"
     ]
    }
   ],
   "source": [
    "# define a lens/filter function/projection\n",
    "projected_data = mapper.fit_transform(data, projection=[0,1]) # X-Y axis\n",
    "\n",
    "# from sklearn.decomposition import PCA\n",
    "# projected_data = PCA(n_components=1).fit_transform(data)"
   ]
  },
  {
   "cell_type": "markdown",
   "metadata": {},
   "source": [
    "### Define cover\n",
    "\n",
    "Then we define the *cover*. To do so, we split the range of the *lens* function into specified number of intervals (*n_cubes*). Where the size of overlap between consecutive intervals is given as a percentage of interval length (*perc_overlap*). For example, if the range of the *lens* is (0-100) and we specify n_cube, perc_overlap equal to 2 and 0.1 respectively, then the two intervals we get are (0-60) and (50-100).<br>\n",
    "\n",
    "Once the cover is defined, mapper will split the data so that all the data points that map to the same interval are put into the same chunk. Since the intervals overlap, there would be points that map to more than one interval and hence, belong to more than one chunk."
   ]
  },
  {
   "cell_type": "code",
   "execution_count": 6,
   "metadata": {},
   "outputs": [],
   "source": [
    "# define cover\n",
    "cover = km.Cover(n_cubes=10, perc_overlap=0.3)"
   ]
  },
  {
   "cell_type": "markdown",
   "metadata": {},
   "source": [
    "### Specify clustering algorithm\n",
    "\n",
    "Next, we want to apply clustering to each chunk. So we specify our favorite clustering algorithm.<br>\n",
    "The default algorithm used by mapper is DBSCAN, but we can use any clustering algorithm or indeed write our own if needed.<br>\n",
    "Typically, one of the methods provided by scikit-learn's cluster modeule is used."
   ]
  },
  {
   "cell_type": "code",
   "execution_count": 7,
   "metadata": {},
   "outputs": [],
   "source": [
    "# define clustering algorithm\n",
    "from sklearn.cluster import DBSCAN\n",
    "clust_metric = 'euclidean'\n",
    "clusterer = DBSCAN(metric=clust_metric)"
   ]
  },
  {
   "cell_type": "markdown",
   "metadata": {},
   "source": [
    "### Construct mapper graph\n",
    "\n",
    "Now, we have all the ingredients to construct the mapper graph.<br>\n",
    "We use the `.map` method of the KepplerMapper object to construct the graph."
   ]
  },
  {
   "cell_type": "code",
   "execution_count": 8,
   "metadata": {
    "scrolled": true
   },
   "outputs": [
    {
     "name": "stdout",
     "output_type": "stream",
     "text": [
      "Mapping on data shaped (5000, 2) using lens shaped (5000, 2)\n",
      "\n",
      "Creating 100 hypercubes.\n",
      "\n",
      "Created 142 edges and 67 nodes in 0:00:00.076731.\n"
     ]
    }
   ],
   "source": [
    "# Create mapper graph: a dictionary with nodes, edges and meta-information\n",
    "graph = mapper.map(projected_data, data, cover=cover, clusterer=clusterer)"
   ]
  },
  {
   "cell_type": "markdown",
   "metadata": {},
   "source": [
    "If you used the x,y coordinates as the *lens*, with n_cubes=10, mapper will create 10 intervals along each axis so that we end up with 100 *hypercubes*. The method will also tell you how many nodes and edges the graph has. Vary the n_cubes and perc_overlap parameters of the cover to see how the graph size changes."
   ]
  },
  {
   "cell_type": "markdown",
   "metadata": {},
   "source": [
    "### Visualize the mapper graph\n",
    "\n",
    "Lastly, we will use the `visualize` method of KepplerMapper object to create a visualization and save it in an html file. There are other ways to create visualizations, we can export the graph to a standard graph package like networkx or igraph. But the html version is very convenient. We will create the html file and then load it into a frame below.\n",
    "\n",
    "In the visualization, you can zoom in and out on parts of the graph.<br>\n",
    "Click on the `+` sign in from of *cluster details* to open a panel on the left. When you hover over a node in the graph, this panel will display information about the cluster.<br>\n",
    "Click on the `+` sign in from of *mapper summary* to open a panel on the right. This panel shows the parameters used to construct the mapper graph."
   ]
  },
  {
   "cell_type": "code",
   "execution_count": 9,
   "metadata": {},
   "outputs": [
    {
     "name": "stdout",
     "output_type": "stream",
     "text": [
      "Wrote visualization to: ./make_circles_mapper.html\n"
     ]
    },
    {
     "data": {
      "text/html": [
       "\n",
       "        <iframe\n",
       "            width=\"1000\"\n",
       "            height=\"800\"\n",
       "            src=\"./make_circles_mapper.html\"\n",
       "            frameborder=\"0\"\n",
       "            allowfullscreen\n",
       "            \n",
       "        ></iframe>\n",
       "        "
      ],
      "text/plain": [
       "<IPython.lib.display.IFrame at 0x7fd289258b80>"
      ]
     },
     "execution_count": 9,
     "metadata": {},
     "output_type": "execute_result"
    }
   ],
   "source": [
    "# Visualize the created graph\n",
    "from helper_functions import colorscale_from_matplotlib_cmap\n",
    "cscale = colorscale_from_matplotlib_cmap(plt.get_cmap('coolwarm'))\n",
    "\n",
    "_ = mapper.visualize(graph,\n",
    "                     path_html=\"./make_circles_mapper.html\",\n",
    "                     title=\"make_circles(n_samples=5000, noise=0.03, factor=0.3)\",\n",
    "                     color_values=labels,\n",
    "                     colorscale=cscale,\n",
    "                     color_function_name='labels'\n",
    "                    )\n",
    "\n",
    "IFrame(src=\"./make_circles_mapper.html\", width=1000, height=800)"
   ]
  }
 ],
 "metadata": {
  "kernelspec": {
   "display_name": "Python 3 (ipykernel)",
   "language": "python",
   "name": "python3"
  },
  "language_info": {
   "codemirror_mode": {
    "name": "ipython",
    "version": 3
   },
   "file_extension": ".py",
   "mimetype": "text/x-python",
   "name": "python",
   "nbconvert_exporter": "python",
   "pygments_lexer": "ipython3",
   "version": "3.8.12"
  }
 },
 "nbformat": 4,
 "nbformat_minor": 4
}
