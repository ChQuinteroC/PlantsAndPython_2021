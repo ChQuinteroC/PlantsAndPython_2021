{
 "cells": [
  {
   "cell_type": "markdown",
   "metadata": {
    "id": "jFDzb40UH1XU"
   },
   "source": [
    "### Test with a 100 _Arabidopsis_ genes and default mapper values"
   ]
  },
  {
   "cell_type": "markdown",
   "metadata": {
    "id": "-rbnML1QH1XY"
   },
   "source": [
    "**Imort useful packages / modules**"
   ]
  },
  {
   "cell_type": "code",
   "execution_count": 1,
   "metadata": {
    "executionInfo": {
     "elapsed": 1017,
     "status": "ok",
     "timestamp": 1636592762823,
     "user": {
      "displayName": "Francisco Xavier Guerra Castillo",
      "photoUrl": "https://lh3.googleusercontent.com/a-/AOh14GjfkQgX4GMVVK-GKnbq-93Kac4gZ2DDkg8STr_S1Q=s64",
      "userId": "03477141616928095839"
     },
     "user_tz": 360
    },
    "id": "jfcdSiLXH1XY"
   },
   "outputs": [],
   "source": [
    "import sys\n",
    "import numpy as np\n",
    "import pandas as pd\n",
    "import matplotlib.pyplot as plt\n",
    "\n",
    "# ML tools\n",
    "from sklearn.cluster import DBSCAN\n",
    "from sklearn.preprocessing import MinMaxScaler\n",
    "\n",
    "# For output display\n",
    "from IPython.display import IFrame\n",
    "\n",
    "# If running locally, set current directory as projdir\n",
    "projdir = '.'"
   ]
  },
  {
   "cell_type": "markdown",
   "metadata": {
    "id": "97hBlse7OqZe"
   },
   "source": [
    "**Mount Google Drive**\n",
    "\n",
    "Run the next cell __only if you're planning to run this notebook on Google Colab__. If you are running this notebook locally, comment it out.\n",
    "\n",
    "To run the notebook in Google Colab, it is best if you upload data and script files to a folder in Google Drive and access them from there. We already have a shared Google Drive folder named `PlantsAndPython-2021-10-22` that contains all the required data and script files.\n",
    "Run the next code cell to mount the drive and make the files accessible. We will define the shared folder as our project directory `projdir`.\n",
    "\n",
    "If Google drive is not already mounted, running the cell will produce a link. Click on the link, follow the prompts to log in to your google account, and copy the text string generated at the end. Paste the text string in the box below and press `Enter`."
   ]
  },
  {
   "cell_type": "code",
   "execution_count": null,
   "metadata": {
    "id": "WEpUU6zvIDpQ"
   },
   "outputs": [],
   "source": [
    "# # Only if running in Google Colab..!!\n",
    "# # DO NOT run this cell if running locally - simply comment it out.\n",
    "# from google.colab import drive\n",
    "# drive.mount('/content/gdrive/')\n",
    "\n",
    "# projdir = '/content/gdrive/MyDrive/PlantsAndPython-2021-10-22'\n",
    "# sys.path.append(projdir)"
   ]
  },
  {
   "cell_type": "code",
   "execution_count": 2,
   "metadata": {
    "colab": {
     "base_uri": "https://localhost:8080/"
    },
    "executionInfo": {
     "elapsed": 145,
     "status": "ok",
     "timestamp": 1636578429919,
     "user": {
      "displayName": "Francisco Xavier Guerra Castillo",
      "photoUrl": "https://lh3.googleusercontent.com/a-/AOh14GjfkQgX4GMVVK-GKnbq-93Kac4gZ2DDkg8STr_S1Q=s64",
      "userId": "03477141616928095839"
     },
     "user_tz": 360
    },
    "id": "YmyySvYt6Nqv",
    "outputId": "67bc0a24-026c-42a8-c4da-2d901bd007f1",
    "scrolled": true
   },
   "outputs": [
    {
     "data": {
      "text/plain": [
       "['/001/usuarios/villasen/PlantsPython/ClassProject/Mapper',\n",
       " '/001/usuarios/villasen/anaconda3/lib/python37.zip',\n",
       " '/001/usuarios/villasen/anaconda3/lib/python3.7',\n",
       " '/001/usuarios/villasen/anaconda3/lib/python3.7/lib-dynload',\n",
       " '',\n",
       " '/001/usuarios/villasen/.local/lib/python3.7/site-packages',\n",
       " '/001/usuarios/villasen/anaconda3/lib/python3.7/site-packages',\n",
       " '/001/usuarios/villasen/anaconda3/lib/python3.7/site-packages/IPython/extensions',\n",
       " '/001/usuarios/villasen/.ipython']"
      ]
     },
     "execution_count": 2,
     "metadata": {},
     "output_type": "execute_result"
    }
   ],
   "source": [
    "# Make sure your last path is the one were you have this script and your data\n",
    "sys.path"
   ]
  },
  {
   "cell_type": "code",
   "execution_count": 3,
   "metadata": {
    "id": "bfVRuZwPIkAo"
   },
   "outputs": [],
   "source": [
    "# import helper_functions\n",
    "from helper_functions import loaddata\n",
    "from helper_functions import colorscale_from_matplotlib_cmap\n",
    "\n",
    "# import lense function\n",
    "from lenses import fsga_transform\n",
    "\n",
    "# keppler mapper\n",
    "import kmapper as km"
   ]
  },
  {
   "cell_type": "markdown",
   "metadata": {
    "id": "XEJXr1SgBzY1"
   },
   "source": [
    "#### Visualizing subsets of metadata and/or data of the *Arabidopsis* class project: \n",
    "Which one will be more useful to plot a preliminary mapper graph?\n",
    "\n",
    "\n",
    "\n",
    " * **BW**: subsetted by Brandon Webster\n",
    " * **RW**: subsetted by Robin Waterman\n",
    " * **KD**: subsetted by Kara Dobson\n",
    " * **SZ**: subsetted by Sophia Zorrilla\n",
    " \n",
    " \n",
    " *Note: there're probably more subsets hidden among the discord groups*"
   ]
  },
  {
   "cell_type": "code",
   "execution_count": 5,
   "metadata": {
    "colab": {
     "base_uri": "https://localhost:8080/",
     "height": 204
    },
    "executionInfo": {
     "elapsed": 700,
     "status": "ok",
     "timestamp": 1636578960620,
     "user": {
      "displayName": "Francisco Xavier Guerra Castillo",
      "photoUrl": "https://lh3.googleusercontent.com/a-/AOh14GjfkQgX4GMVVK-GKnbq-93Kac4gZ2DDkg8STr_S1Q=s64",
      "userId": "03477141616928095839"
     },
     "user_tz": 360
    },
    "id": "he4310AxCA3S",
    "outputId": "e0f18b51-cedd-4a50-8ba4-2281800e4971"
   },
   "outputs": [
    {
     "data": {
      "text/html": [
       "<div>\n",
       "<style scoped>\n",
       "    .dataframe tbody tr th:only-of-type {\n",
       "        vertical-align: middle;\n",
       "    }\n",
       "\n",
       "    .dataframe tbody tr th {\n",
       "        vertical-align: top;\n",
       "    }\n",
       "\n",
       "    .dataframe thead th {\n",
       "        text-align: right;\n",
       "    }\n",
       "</style>\n",
       "<table border=\"1\" class=\"dataframe\">\n",
       "  <thead>\n",
       "    <tr style=\"text-align: right;\">\n",
       "      <th></th>\n",
       "      <th>Sample</th>\n",
       "      <th>Project</th>\n",
       "      <th>SampleName</th>\n",
       "      <th>PMID</th>\n",
       "      <th>Genotype</th>\n",
       "      <th>Ecotype</th>\n",
       "      <th>Tissue</th>\n",
       "      <th>TotalReads</th>\n",
       "      <th>UniqueMappedRate</th>\n",
       "      <th>ReleaseDate</th>\n",
       "    </tr>\n",
       "  </thead>\n",
       "  <tbody>\n",
       "    <tr>\n",
       "      <th>0</th>\n",
       "      <td>DRX007662</td>\n",
       "      <td>PRJDB2180</td>\n",
       "      <td>Arabidopsis WT-Col mRNA_seq</td>\n",
       "      <td>/</td>\n",
       "      <td>wild type</td>\n",
       "      <td>Col-0</td>\n",
       "      <td>/</td>\n",
       "      <td>30664389</td>\n",
       "      <td>86.20%</td>\n",
       "      <td>2014/4/2</td>\n",
       "    </tr>\n",
       "    <tr>\n",
       "      <th>1</th>\n",
       "      <td>DRX007663</td>\n",
       "      <td>PRJDB2180</td>\n",
       "      <td>Arabidopsis ibm1-4 mRNA_seq</td>\n",
       "      <td>/</td>\n",
       "      <td>ibm1-4</td>\n",
       "      <td>Col-0</td>\n",
       "      <td>/</td>\n",
       "      <td>38551905</td>\n",
       "      <td>91.10%</td>\n",
       "      <td>2014/4/2</td>\n",
       "    </tr>\n",
       "    <tr>\n",
       "      <th>2</th>\n",
       "      <td>DRX007664</td>\n",
       "      <td>PRJDB2180</td>\n",
       "      <td>Arabidopsis ibm2-2 mRNA_seq</td>\n",
       "      <td>/</td>\n",
       "      <td>ibm2-2</td>\n",
       "      <td>Col-0</td>\n",
       "      <td>/</td>\n",
       "      <td>37223057</td>\n",
       "      <td>83.40%</td>\n",
       "      <td>2014/4/2</td>\n",
       "    </tr>\n",
       "    <tr>\n",
       "      <th>3</th>\n",
       "      <td>DRX014481</td>\n",
       "      <td>PRJDB1593</td>\n",
       "      <td>Y1</td>\n",
       "      <td>/</td>\n",
       "      <td>wild type</td>\n",
       "      <td>/</td>\n",
       "      <td>root</td>\n",
       "      <td>95012910</td>\n",
       "      <td>89.80%</td>\n",
       "      <td>2016/2/5</td>\n",
       "    </tr>\n",
       "    <tr>\n",
       "      <th>4</th>\n",
       "      <td>DRX014482</td>\n",
       "      <td>PRJDB1593</td>\n",
       "      <td>Y2</td>\n",
       "      <td>/</td>\n",
       "      <td>wild type</td>\n",
       "      <td>/</td>\n",
       "      <td>root</td>\n",
       "      <td>163269003</td>\n",
       "      <td>92.90%</td>\n",
       "      <td>2016/2/5</td>\n",
       "    </tr>\n",
       "  </tbody>\n",
       "</table>\n",
       "</div>"
      ],
      "text/plain": [
       "      Sample    Project                   SampleName PMID   Genotype Ecotype  \\\n",
       "0  DRX007662  PRJDB2180  Arabidopsis WT-Col mRNA_seq    /  wild type   Col-0   \n",
       "1  DRX007663  PRJDB2180  Arabidopsis ibm1-4 mRNA_seq    /     ibm1-4   Col-0   \n",
       "2  DRX007664  PRJDB2180  Arabidopsis ibm2-2 mRNA_seq    /     ibm2-2   Col-0   \n",
       "3  DRX014481  PRJDB1593                           Y1    /  wild type       /   \n",
       "4  DRX014482  PRJDB1593                           Y2    /  wild type       /   \n",
       "\n",
       "  Tissue  TotalReads UniqueMappedRate ReleaseDate  \n",
       "0      /    30664389           86.20%    2014/4/2  \n",
       "1      /    38551905           91.10%    2014/4/2  \n",
       "2      /    37223057           83.40%    2014/4/2  \n",
       "3   root    95012910           89.80%    2016/2/5  \n",
       "4   root   163269003           92.90%    2016/2/5  "
      ]
     },
     "execution_count": 5,
     "metadata": {},
     "output_type": "execute_result"
    }
   ],
   "source": [
    "BW = pd.read_csv('./Databasemetadata.csv', encoding= 'unicode_escape') \n",
    "# I used encoding = 'unicode_escape' as a solution\n",
    "# to an error I otherwise had: 'utf-8' codec can't decode \n",
    "# byte 0xea in position 11: invalid continuation byte\n",
    "BW.head()"
   ]
  },
  {
   "cell_type": "code",
   "execution_count": 6,
   "metadata": {
    "colab": {
     "base_uri": "https://localhost:8080/",
     "height": 255
    },
    "executionInfo": {
     "elapsed": 629,
     "status": "ok",
     "timestamp": 1636578963507,
     "user": {
      "displayName": "Francisco Xavier Guerra Castillo",
      "photoUrl": "https://lh3.googleusercontent.com/a-/AOh14GjfkQgX4GMVVK-GKnbq-93Kac4gZ2DDkg8STr_S1Q=s64",
      "userId": "03477141616928095839"
     },
     "user_tz": 360
    },
    "id": "tdCmuN_ECIri",
    "outputId": "ffb1be7a-003a-443b-838e-16e0eb0e00b1"
   },
   "outputs": [
    {
     "data": {
      "text/html": [
       "<div>\n",
       "<style scoped>\n",
       "    .dataframe tbody tr th:only-of-type {\n",
       "        vertical-align: middle;\n",
       "    }\n",
       "\n",
       "    .dataframe tbody tr th {\n",
       "        vertical-align: top;\n",
       "    }\n",
       "\n",
       "    .dataframe thead th {\n",
       "        text-align: right;\n",
       "    }\n",
       "</style>\n",
       "<table border=\"1\" class=\"dataframe\">\n",
       "  <thead>\n",
       "    <tr style=\"text-align: right;\">\n",
       "      <th></th>\n",
       "      <th>Sample</th>\n",
       "      <th>SampleName</th>\n",
       "      <th>AT1G22630</th>\n",
       "      <th>AT1G22620</th>\n",
       "      <th>AT1G22610</th>\n",
       "      <th>Tissue</th>\n",
       "      <th>Ecotype</th>\n",
       "      <th>Genotype</th>\n",
       "      <th>Treatment</th>\n",
       "      <th>Project</th>\n",
       "      <th>TotalReads</th>\n",
       "      <th>UniqueMappedRatio</th>\n",
       "      <th>ReleaseDate</th>\n",
       "    </tr>\n",
       "  </thead>\n",
       "  <tbody>\n",
       "    <tr>\n",
       "      <th>0</th>\n",
       "      <td>DRX007662</td>\n",
       "      <td>Arabidopsis WT-Col mRNA_seq</td>\n",
       "      <td>37.66</td>\n",
       "      <td>28.68</td>\n",
       "      <td>0.0</td>\n",
       "      <td>--</td>\n",
       "      <td>Col-0</td>\n",
       "      <td>wild type</td>\n",
       "      <td>--</td>\n",
       "      <td>PRJDB2180</td>\n",
       "      <td>30664389</td>\n",
       "      <td>0.8615</td>\n",
       "      <td>4/2/2014</td>\n",
       "    </tr>\n",
       "    <tr>\n",
       "      <th>1</th>\n",
       "      <td>DRX007663</td>\n",
       "      <td>Arabidopsis ibm1-4 mRNA_seq</td>\n",
       "      <td>35.22</td>\n",
       "      <td>30.74</td>\n",
       "      <td>0.0</td>\n",
       "      <td>--</td>\n",
       "      <td>Col-0</td>\n",
       "      <td>ibm1-4</td>\n",
       "      <td>--</td>\n",
       "      <td>PRJDB2180</td>\n",
       "      <td>38551905</td>\n",
       "      <td>0.9114</td>\n",
       "      <td>4/2/2014</td>\n",
       "    </tr>\n",
       "    <tr>\n",
       "      <th>2</th>\n",
       "      <td>DRX007664</td>\n",
       "      <td>Arabidopsis ibm2-2 mRNA_seq</td>\n",
       "      <td>33.39</td>\n",
       "      <td>28.81</td>\n",
       "      <td>0.0</td>\n",
       "      <td>--</td>\n",
       "      <td>Col-0</td>\n",
       "      <td>ibm2-2</td>\n",
       "      <td>--</td>\n",
       "      <td>PRJDB2180</td>\n",
       "      <td>37223057</td>\n",
       "      <td>0.8343</td>\n",
       "      <td>4/2/2014</td>\n",
       "    </tr>\n",
       "    <tr>\n",
       "      <th>3</th>\n",
       "      <td>DRX014481</td>\n",
       "      <td>Y1</td>\n",
       "      <td>8.22</td>\n",
       "      <td>21.83</td>\n",
       "      <td>0.0</td>\n",
       "      <td>root</td>\n",
       "      <td>--</td>\n",
       "      <td>wild type</td>\n",
       "      <td>--</td>\n",
       "      <td>PRJDB1593</td>\n",
       "      <td>95012910</td>\n",
       "      <td>0.8982</td>\n",
       "      <td>2/5/2016</td>\n",
       "    </tr>\n",
       "    <tr>\n",
       "      <th>4</th>\n",
       "      <td>DRX014482</td>\n",
       "      <td>Y2</td>\n",
       "      <td>8.53</td>\n",
       "      <td>26.05</td>\n",
       "      <td>0.0</td>\n",
       "      <td>root</td>\n",
       "      <td>--</td>\n",
       "      <td>wild type</td>\n",
       "      <td>--</td>\n",
       "      <td>PRJDB1593</td>\n",
       "      <td>163269003</td>\n",
       "      <td>0.9293</td>\n",
       "      <td>2/5/2016</td>\n",
       "    </tr>\n",
       "  </tbody>\n",
       "</table>\n",
       "</div>"
      ],
      "text/plain": [
       "      Sample                   SampleName  AT1G22630  AT1G22620  AT1G22610  \\\n",
       "0  DRX007662  Arabidopsis WT-Col mRNA_seq      37.66      28.68        0.0   \n",
       "1  DRX007663  Arabidopsis ibm1-4 mRNA_seq      35.22      30.74        0.0   \n",
       "2  DRX007664  Arabidopsis ibm2-2 mRNA_seq      33.39      28.81        0.0   \n",
       "3  DRX014481                           Y1       8.22      21.83        0.0   \n",
       "4  DRX014482                           Y2       8.53      26.05        0.0   \n",
       "\n",
       "  Tissue Ecotype   Genotype Treatment    Project  TotalReads  \\\n",
       "0     --   Col-0  wild type        --  PRJDB2180    30664389   \n",
       "1     --   Col-0     ibm1-4        --  PRJDB2180    38551905   \n",
       "2     --   Col-0     ibm2-2        --  PRJDB2180    37223057   \n",
       "3   root      --  wild type        --  PRJDB1593    95012910   \n",
       "4   root      --  wild type        --  PRJDB1593   163269003   \n",
       "\n",
       "   UniqueMappedRatio ReleaseDate  \n",
       "0             0.8615    4/2/2014  \n",
       "1             0.9114    4/2/2014  \n",
       "2             0.8343    4/2/2014  \n",
       "3             0.8982    2/5/2016  \n",
       "4             0.9293    2/5/2016  "
      ]
     },
     "execution_count": 6,
     "metadata": {},
     "output_type": "execute_result"
    }
   ],
   "source": [
    "RW = pd.read_csv(\"./result_table.csv\", encoding= 'unicode_escape')\n",
    "RW.head()"
   ]
  },
  {
   "cell_type": "code",
   "execution_count": 7,
   "metadata": {
    "colab": {
     "base_uri": "https://localhost:8080/",
     "height": 275
    },
    "executionInfo": {
     "elapsed": 753,
     "status": "ok",
     "timestamp": 1636578965524,
     "user": {
      "displayName": "Francisco Xavier Guerra Castillo",
      "photoUrl": "https://lh3.googleusercontent.com/a-/AOh14GjfkQgX4GMVVK-GKnbq-93Kac4gZ2DDkg8STr_S1Q=s64",
      "userId": "03477141616928095839"
     },
     "user_tz": 360
    },
    "id": "mQmdkJxfCKcj",
    "outputId": "41b98abb-7f1f-4af0-c7fa-a30d4fcf4694"
   },
   "outputs": [
    {
     "data": {
      "text/html": [
       "<div>\n",
       "<style scoped>\n",
       "    .dataframe tbody tr th:only-of-type {\n",
       "        vertical-align: middle;\n",
       "    }\n",
       "\n",
       "    .dataframe tbody tr th {\n",
       "        vertical-align: top;\n",
       "    }\n",
       "\n",
       "    .dataframe thead th {\n",
       "        text-align: right;\n",
       "    }\n",
       "</style>\n",
       "<table border=\"1\" class=\"dataframe\">\n",
       "  <thead>\n",
       "    <tr style=\"text-align: right;\">\n",
       "      <th></th>\n",
       "      <th>Unnamed: 0</th>\n",
       "      <th>Sample</th>\n",
       "      <th>SampleName</th>\n",
       "      <th>AT1G22630</th>\n",
       "      <th>AT1G22620</th>\n",
       "      <th>AT1G22610</th>\n",
       "      <th>Tissue</th>\n",
       "      <th>Ecotype</th>\n",
       "      <th>Genotype</th>\n",
       "      <th>Treatment</th>\n",
       "      <th>Project</th>\n",
       "      <th>TotalReads</th>\n",
       "      <th>UniqueMappedRatio</th>\n",
       "      <th>ReleaseDate</th>\n",
       "    </tr>\n",
       "  </thead>\n",
       "  <tbody>\n",
       "    <tr>\n",
       "      <th>0</th>\n",
       "      <td>17117</td>\n",
       "      <td>GSM3178804</td>\n",
       "      <td>urt1 rep1 dataset #2</td>\n",
       "      <td>0.00</td>\n",
       "      <td>0.00</td>\n",
       "      <td>0.0</td>\n",
       "      <td>seedlings</td>\n",
       "      <td>--</td>\n",
       "      <td>urt1</td>\n",
       "      <td>--</td>\n",
       "      <td>PRJNA475117</td>\n",
       "      <td>1039688</td>\n",
       "      <td>0.2002</td>\n",
       "      <td>10/8/2018</td>\n",
       "    </tr>\n",
       "    <tr>\n",
       "      <th>1</th>\n",
       "      <td>2820</td>\n",
       "      <td>GSM1507902</td>\n",
       "      <td>Te ctrl rep3</td>\n",
       "      <td>61.64</td>\n",
       "      <td>29.59</td>\n",
       "      <td>0.0</td>\n",
       "      <td>rosette leaf</td>\n",
       "      <td>Te</td>\n",
       "      <td>Te</td>\n",
       "      <td>control</td>\n",
       "      <td>PRJNA261430</td>\n",
       "      <td>24510726</td>\n",
       "      <td>0.8412</td>\n",
       "      <td>9/22/2014</td>\n",
       "    </tr>\n",
       "    <tr>\n",
       "      <th>2</th>\n",
       "      <td>16447</td>\n",
       "      <td>GSM2915887</td>\n",
       "      <td>BA_2</td>\n",
       "      <td>19.16</td>\n",
       "      <td>36.65</td>\n",
       "      <td>0.0</td>\n",
       "      <td>seedlings</td>\n",
       "      <td>Col-0</td>\n",
       "      <td>--</td>\n",
       "      <td>BA</td>\n",
       "      <td>PRJNA429126</td>\n",
       "      <td>21775880</td>\n",
       "      <td>0.9044</td>\n",
       "      <td>10/1/2018</td>\n",
       "    </tr>\n",
       "    <tr>\n",
       "      <th>3</th>\n",
       "      <td>12342</td>\n",
       "      <td>SRX2899193</td>\n",
       "      <td>Col0_margin_rep2</td>\n",
       "      <td>95.46</td>\n",
       "      <td>23.76</td>\n",
       "      <td>0.0</td>\n",
       "      <td>leaves</td>\n",
       "      <td>Col-0</td>\n",
       "      <td>Col-0</td>\n",
       "      <td>--</td>\n",
       "      <td>PRJNA389787</td>\n",
       "      <td>10077394</td>\n",
       "      <td>0.7901</td>\n",
       "      <td>12/6/2017</td>\n",
       "    </tr>\n",
       "    <tr>\n",
       "      <th>4</th>\n",
       "      <td>159</td>\n",
       "      <td>DRX099518</td>\n",
       "      <td>DRS050614</td>\n",
       "      <td>0.00</td>\n",
       "      <td>15.69</td>\n",
       "      <td>0.0</td>\n",
       "      <td>root</td>\n",
       "      <td>Col-0</td>\n",
       "      <td>wild type</td>\n",
       "      <td>Mock</td>\n",
       "      <td>PRJDB6370</td>\n",
       "      <td>3990947</td>\n",
       "      <td>0.9492</td>\n",
       "      <td>9/28/2017</td>\n",
       "    </tr>\n",
       "  </tbody>\n",
       "</table>\n",
       "</div>"
      ],
      "text/plain": [
       "   Unnamed: 0      Sample            SampleName  AT1G22630  AT1G22620  \\\n",
       "0       17117  GSM3178804  urt1 rep1 dataset #2       0.00       0.00   \n",
       "1        2820  GSM1507902          Te ctrl rep3      61.64      29.59   \n",
       "2       16447  GSM2915887                  BA_2      19.16      36.65   \n",
       "3       12342  SRX2899193      Col0_margin_rep2      95.46      23.76   \n",
       "4         159   DRX099518             DRS050614       0.00      15.69   \n",
       "\n",
       "   AT1G22610        Tissue Ecotype   Genotype Treatment      Project  \\\n",
       "0        0.0     seedlings      --       urt1        --  PRJNA475117   \n",
       "1        0.0  rosette leaf      Te         Te   control  PRJNA261430   \n",
       "2        0.0     seedlings   Col-0         --        BA  PRJNA429126   \n",
       "3        0.0        leaves   Col-0      Col-0        --  PRJNA389787   \n",
       "4        0.0          root   Col-0  wild type      Mock    PRJDB6370   \n",
       "\n",
       "   TotalReads  UniqueMappedRatio ReleaseDate  \n",
       "0     1039688             0.2002   10/8/2018  \n",
       "1    24510726             0.8412   9/22/2014  \n",
       "2    21775880             0.9044   10/1/2018  \n",
       "3    10077394             0.7901   12/6/2017  \n",
       "4     3990947             0.9492   9/28/2017  "
      ]
     },
     "execution_count": 7,
     "metadata": {},
     "output_type": "execute_result"
    }
   ],
   "source": [
    "KD = pd.read_csv(\"./data_subset.csv\")\n",
    "KD.head()"
   ]
  },
  {
   "cell_type": "code",
   "execution_count": 8,
   "metadata": {},
   "outputs": [
    {
     "data": {
      "text/html": [
       "<div>\n",
       "<style scoped>\n",
       "    .dataframe tbody tr th:only-of-type {\n",
       "        vertical-align: middle;\n",
       "    }\n",
       "\n",
       "    .dataframe tbody tr th {\n",
       "        vertical-align: top;\n",
       "    }\n",
       "\n",
       "    .dataframe thead th {\n",
       "        text-align: right;\n",
       "    }\n",
       "</style>\n",
       "<table border=\"1\" class=\"dataframe\">\n",
       "  <thead>\n",
       "    <tr style=\"text-align: right;\">\n",
       "      <th></th>\n",
       "      <th>Sample</th>\n",
       "      <th>SampleName</th>\n",
       "      <th>AT1G06190</th>\n",
       "      <th>AT1G59830</th>\n",
       "      <th>AT4G05510</th>\n",
       "      <th>AT5G45573</th>\n",
       "      <th>AT1G18340</th>\n",
       "      <th>AT4G13770</th>\n",
       "      <th>AT1G05520</th>\n",
       "      <th>AT1G48580</th>\n",
       "      <th>...</th>\n",
       "      <th>AT5G61500</th>\n",
       "      <th>AT5G00910</th>\n",
       "      <th>Tissue</th>\n",
       "      <th>Ecotype</th>\n",
       "      <th>Genotype</th>\n",
       "      <th>Treatment</th>\n",
       "      <th>Project</th>\n",
       "      <th>TotalReads</th>\n",
       "      <th>UniqueMappedRatio</th>\n",
       "      <th>ReleaseDate</th>\n",
       "    </tr>\n",
       "  </thead>\n",
       "  <tbody>\n",
       "    <tr>\n",
       "      <th>0</th>\n",
       "      <td>DRX007662</td>\n",
       "      <td>Arabidopsis WT-Col mRNA_seq</td>\n",
       "      <td>42.03</td>\n",
       "      <td>38.25</td>\n",
       "      <td>0.03</td>\n",
       "      <td>0.0</td>\n",
       "      <td>16.85</td>\n",
       "      <td>15.03</td>\n",
       "      <td>32.44</td>\n",
       "      <td>8.81</td>\n",
       "      <td>...</td>\n",
       "      <td>46.68</td>\n",
       "      <td>0.89</td>\n",
       "      <td>--</td>\n",
       "      <td>Col-0</td>\n",
       "      <td>wild type</td>\n",
       "      <td>--</td>\n",
       "      <td>PRJDB2180</td>\n",
       "      <td>30664389</td>\n",
       "      <td>0.8615</td>\n",
       "      <td>2014/4/2</td>\n",
       "    </tr>\n",
       "    <tr>\n",
       "      <th>1</th>\n",
       "      <td>DRX007663</td>\n",
       "      <td>Arabidopsis ibm1-4 mRNA_seq</td>\n",
       "      <td>51.37</td>\n",
       "      <td>35.05</td>\n",
       "      <td>0.00</td>\n",
       "      <td>0.0</td>\n",
       "      <td>18.37</td>\n",
       "      <td>47.83</td>\n",
       "      <td>32.76</td>\n",
       "      <td>6.75</td>\n",
       "      <td>...</td>\n",
       "      <td>46.79</td>\n",
       "      <td>0.00</td>\n",
       "      <td>--</td>\n",
       "      <td>Col-0</td>\n",
       "      <td>ibm1-4</td>\n",
       "      <td>--</td>\n",
       "      <td>PRJDB2180</td>\n",
       "      <td>38551905</td>\n",
       "      <td>0.9114</td>\n",
       "      <td>2014/4/2</td>\n",
       "    </tr>\n",
       "    <tr>\n",
       "      <th>2</th>\n",
       "      <td>DRX007664</td>\n",
       "      <td>Arabidopsis ibm2-2 mRNA_seq</td>\n",
       "      <td>45.71</td>\n",
       "      <td>34.51</td>\n",
       "      <td>0.02</td>\n",
       "      <td>0.0</td>\n",
       "      <td>17.35</td>\n",
       "      <td>26.90</td>\n",
       "      <td>34.37</td>\n",
       "      <td>7.66</td>\n",
       "      <td>...</td>\n",
       "      <td>46.82</td>\n",
       "      <td>0.29</td>\n",
       "      <td>--</td>\n",
       "      <td>Col-0</td>\n",
       "      <td>ibm2-2</td>\n",
       "      <td>--</td>\n",
       "      <td>PRJDB2180</td>\n",
       "      <td>37223057</td>\n",
       "      <td>0.8343</td>\n",
       "      <td>2014/4/2</td>\n",
       "    </tr>\n",
       "    <tr>\n",
       "      <th>3</th>\n",
       "      <td>DRX014481</td>\n",
       "      <td>Y1</td>\n",
       "      <td>31.10</td>\n",
       "      <td>45.58</td>\n",
       "      <td>0.00</td>\n",
       "      <td>0.0</td>\n",
       "      <td>29.47</td>\n",
       "      <td>51.06</td>\n",
       "      <td>26.40</td>\n",
       "      <td>7.32</td>\n",
       "      <td>...</td>\n",
       "      <td>57.13</td>\n",
       "      <td>0.54</td>\n",
       "      <td>root</td>\n",
       "      <td>--</td>\n",
       "      <td>wild type</td>\n",
       "      <td>--</td>\n",
       "      <td>PRJDB1593</td>\n",
       "      <td>95012910</td>\n",
       "      <td>0.8982</td>\n",
       "      <td>2016/2/5</td>\n",
       "    </tr>\n",
       "    <tr>\n",
       "      <th>4</th>\n",
       "      <td>DRX014482</td>\n",
       "      <td>Y2</td>\n",
       "      <td>29.71</td>\n",
       "      <td>40.16</td>\n",
       "      <td>0.00</td>\n",
       "      <td>0.0</td>\n",
       "      <td>26.99</td>\n",
       "      <td>46.15</td>\n",
       "      <td>31.74</td>\n",
       "      <td>9.03</td>\n",
       "      <td>...</td>\n",
       "      <td>49.69</td>\n",
       "      <td>0.38</td>\n",
       "      <td>root</td>\n",
       "      <td>--</td>\n",
       "      <td>wild type</td>\n",
       "      <td>--</td>\n",
       "      <td>PRJDB1593</td>\n",
       "      <td>163269003</td>\n",
       "      <td>0.9293</td>\n",
       "      <td>2016/2/5</td>\n",
       "    </tr>\n",
       "  </tbody>\n",
       "</table>\n",
       "<p>5 rows × 110 columns</p>\n",
       "</div>"
      ],
      "text/plain": [
       "      Sample                   SampleName  AT1G06190  AT1G59830  AT4G05510  \\\n",
       "0  DRX007662  Arabidopsis WT-Col mRNA_seq      42.03      38.25       0.03   \n",
       "1  DRX007663  Arabidopsis ibm1-4 mRNA_seq      51.37      35.05       0.00   \n",
       "2  DRX007664  Arabidopsis ibm2-2 mRNA_seq      45.71      34.51       0.02   \n",
       "3  DRX014481                           Y1      31.10      45.58       0.00   \n",
       "4  DRX014482                           Y2      29.71      40.16       0.00   \n",
       "\n",
       "   AT5G45573  AT1G18340  AT4G13770  AT1G05520  AT1G48580  ...  AT5G61500  \\\n",
       "0        0.0      16.85      15.03      32.44       8.81  ...      46.68   \n",
       "1        0.0      18.37      47.83      32.76       6.75  ...      46.79   \n",
       "2        0.0      17.35      26.90      34.37       7.66  ...      46.82   \n",
       "3        0.0      29.47      51.06      26.40       7.32  ...      57.13   \n",
       "4        0.0      26.99      46.15      31.74       9.03  ...      49.69   \n",
       "\n",
       "   AT5G00910  Tissue  Ecotype   Genotype  Treatment    Project  TotalReads  \\\n",
       "0       0.89      --    Col-0  wild type         --  PRJDB2180    30664389   \n",
       "1       0.00      --    Col-0     ibm1-4         --  PRJDB2180    38551905   \n",
       "2       0.29      --    Col-0     ibm2-2         --  PRJDB2180    37223057   \n",
       "3       0.54    root       --  wild type         --  PRJDB1593    95012910   \n",
       "4       0.38    root       --  wild type         --  PRJDB1593   163269003   \n",
       "\n",
       "   UniqueMappedRatio  ReleaseDate  \n",
       "0             0.8615     2014/4/2  \n",
       "1             0.9114     2014/4/2  \n",
       "2             0.8343     2014/4/2  \n",
       "3             0.8982     2016/2/5  \n",
       "4             0.9293     2016/2/5  \n",
       "\n",
       "[5 rows x 110 columns]"
      ]
     },
     "execution_count": 8,
     "metadata": {},
     "output_type": "execute_result"
    }
   ],
   "source": [
    "SZ = pd.read_csv(\"./result_table_100.csv\")\n",
    "SZ.head()"
   ]
  },
  {
   "cell_type": "markdown",
   "metadata": {},
   "source": [
    "**Data**\n",
    "\n",
    "We need to define as our dataframe `df` the database that contains gene columns (cells with gene expression values) and factor columns (ex. stress, tissue type, etc.). \n",
    "\n",
    "For this we'll eventually have to merge metadata (the factor columns) with the data (gene expression columns)."
   ]
  },
  {
   "cell_type": "markdown",
   "metadata": {},
   "source": [
    "### Test with a 100 genes and default mapper values"
   ]
  },
  {
   "cell_type": "code",
   "execution_count": 98,
   "metadata": {},
   "outputs": [
    {
     "name": "stdout",
     "output_type": "stream",
     "text": [
      "rows, columns = (20068, 110)\n",
      "number of elements = 2207480\n"
     ]
    }
   ],
   "source": [
    "df = SZ # set dataframe to be Sophia Zorrilla data subset (the one with 100 genes)\n",
    "# df = SZ.iloc[0:5000,:]\n",
    "print(\"rows, columns =\", df.shape)\n",
    "print(\"number of elements =\", df.size)"
   ]
  },
  {
   "cell_type": "code",
   "execution_count": 105,
   "metadata": {
    "collapsed": true
   },
   "outputs": [
    {
     "data": {
      "text/plain": [
       "['AT1G06190',\n",
       " 'AT1G59830',\n",
       " 'AT4G05510',\n",
       " 'AT5G45573',\n",
       " 'AT1G18340',\n",
       " 'AT4G13770',\n",
       " 'AT1G05520',\n",
       " 'AT1G48580',\n",
       " 'AT1G11730',\n",
       " 'AT5G23510',\n",
       " 'AT5G27885',\n",
       " 'AT5G27345',\n",
       " 'AT1G15860',\n",
       " 'AT1G07993',\n",
       " 'AT2G07705',\n",
       " 'AT3G13390',\n",
       " 'AT5G02970',\n",
       " 'AT1G08827',\n",
       " 'AT2G33230',\n",
       " 'AT1G30580',\n",
       " 'AT3G29615',\n",
       " 'AT3G05370',\n",
       " 'AT3G03930',\n",
       " 'AT2G21235',\n",
       " 'AT4G03685',\n",
       " 'AT5G53980',\n",
       " 'AT5G54680',\n",
       " 'AT3G23715',\n",
       " 'AT3G08745',\n",
       " 'AT2G13240',\n",
       " 'AT5G40950',\n",
       " 'AT5G10140',\n",
       " 'AT5G23450',\n",
       " 'AT1G77405',\n",
       " 'AT1G65990',\n",
       " 'AT2G07766',\n",
       " 'AT5G65880',\n",
       " 'AT2G21340',\n",
       " 'AT3G33528',\n",
       " 'AT5G43150',\n",
       " 'AT4G08010',\n",
       " 'AT1G25270',\n",
       " 'AT1G06070',\n",
       " 'AT1G29690',\n",
       " 'AT4G37910',\n",
       " 'AT5G22330',\n",
       " 'AT3G60740',\n",
       " 'AT2G35150',\n",
       " 'AT5G08360',\n",
       " 'AT3G03465',\n",
       " 'AT2G06565',\n",
       " 'AT2G26560',\n",
       " 'AT1G50040',\n",
       " 'AT1G07903',\n",
       " 'AT4G12120',\n",
       " 'AT2G06630',\n",
       " 'AT1G08770',\n",
       " 'AT2G34020',\n",
       " 'AT4G23280',\n",
       " 'AT3G55254',\n",
       " 'AT1G07810',\n",
       " 'AT2G33720',\n",
       " 'AT5G05805',\n",
       " 'AT2G38790',\n",
       " 'AT5G04940',\n",
       " 'AT3G02645',\n",
       " 'AT5G49340',\n",
       " 'AT1G48285',\n",
       " 'AT1G16540',\n",
       " 'AT2G06215',\n",
       " 'AT1G28465',\n",
       " 'AT5G13310',\n",
       " 'AT5G48290',\n",
       " 'AT1G68310',\n",
       " 'AT1G78810',\n",
       " 'AT2G43760',\n",
       " 'AT1G08753',\n",
       " 'AT1G55775',\n",
       " 'AT2G06950',\n",
       " 'AT4G03650',\n",
       " 'AT4G11393',\n",
       " 'AT5G67550',\n",
       " 'AT3G45650',\n",
       " 'AT5G03195',\n",
       " 'AT5G15030',\n",
       " 'AT3G24790',\n",
       " 'AT4G30320',\n",
       " 'AT3G33163',\n",
       " 'AT5G47050',\n",
       " 'AT2G29000',\n",
       " 'AT1G64150',\n",
       " 'AT2G37270',\n",
       " 'AT2G13750',\n",
       " 'AT4G06581',\n",
       " 'AT4G36880',\n",
       " 'AT1G72420',\n",
       " 'AT1G33770',\n",
       " 'AT5G30460',\n",
       " 'AT5G61500',\n",
       " 'AT5G00910']"
      ]
     },
     "execution_count": 105,
     "metadata": {},
     "output_type": "execute_result"
    }
   ],
   "source": [
    "genes = list(df.columns[2:102]) # create list with the gene names\n",
    "genes"
   ]
  },
  {
   "cell_type": "markdown",
   "metadata": {
    "id": "MZXonrk2H1Xd"
   },
   "source": [
    "**Initialize a KeplerMapper object**\n",
    "\n",
    "You can ignore the `nerve` part."
   ]
  },
  {
   "cell_type": "code",
   "execution_count": 106,
   "metadata": {
    "colab": {
     "base_uri": "https://localhost:8080/"
    },
    "executionInfo": {
     "elapsed": 321,
     "status": "ok",
     "timestamp": 1636578994313,
     "user": {
      "displayName": "Francisco Xavier Guerra Castillo",
      "photoUrl": "https://lh3.googleusercontent.com/a-/AOh14GjfkQgX4GMVVK-GKnbq-93Kac4gZ2DDkg8STr_S1Q=s64",
      "userId": "03477141616928095839"
     },
     "user_tz": 360
    },
    "id": "icpI6pbgH1Xe",
    "outputId": "0cbe23be-1f5b-49ee-802b-e7b6225338d1"
   },
   "outputs": [
    {
     "name": "stdout",
     "output_type": "stream",
     "text": [
      "KeplerMapper(verbose=1)\n"
     ]
    }
   ],
   "source": [
    "# Initialize mapper object\n",
    "mymapper = km.KeplerMapper(verbose=1)\n",
    "\n",
    "# Define Nerve\n",
    "nerve = km.GraphNerve(min_intersection=1)"
   ]
  },
  {
   "cell_type": "markdown",
   "metadata": {
    "id": "shvxG8HrH1Xe"
   },
   "source": [
    "**Define lens / filter function:**\n",
    "\n",
    "Gene expression values"
   ]
  },
  {
   "cell_type": "code",
   "execution_count": 107,
   "metadata": {
    "colab": {
     "base_uri": "https://localhost:8080/"
    },
    "executionInfo": {
     "elapsed": 130,
     "status": "ok",
     "timestamp": 1636578997224,
     "user": {
      "displayName": "Francisco Xavier Guerra Castillo",
      "photoUrl": "https://lh3.googleusercontent.com/a-/AOh14GjfkQgX4GMVVK-GKnbq-93Kac4gZ2DDkg8STr_S1Q=s64",
      "userId": "03477141616928095839"
     },
     "user_tz": 360
    },
    "id": "aG6qmz4YH1Xe",
    "outputId": "5886d4d3-eebd-497a-97c0-897424a90bae",
    "scrolled": true
   },
   "outputs": [
    {
     "name": "stdout",
     "output_type": "stream",
     "text": [
      "..Projecting on data shaped (20068, 100)\n",
      "\n",
      "..Projecting data using: l2norm\n",
      "\n",
      "..Scaling with: MinMaxScaler(copy=True, feature_range=(0, 1))\n",
      "\n"
     ]
    }
   ],
   "source": [
    "# Define lens\n",
    "scaler = MinMaxScaler()\n",
    "# residuals, idx_tr, idx_te = fsga_transform(df, orthos, filter_by_factor, filter_by_level) # For now, ignore Sourabh's function\n",
    "\n",
    "lens = mymapper.project(df[genes], # our lens will be the genes expression values\n",
    "                        projection='l2norm', \n",
    "                        scaler=scaler)"
   ]
  },
  {
   "cell_type": "markdown",
   "metadata": {
    "id": "szrY0K5qH1Xf"
   },
   "source": [
    "**Define cover:**\n",
    "\n",
    "Overlap must be between 0 and 100. Intervals must be less than 130."
   ]
  },
  {
   "cell_type": "code",
   "execution_count": 108,
   "metadata": {
    "id": "hu8AzP9hH1Xf"
   },
   "outputs": [],
   "source": [
    "# Define cover\n",
    "cubes, overlap = (100, 80) # cubes = intervals\n",
    "cover = km.cover.Cover(n_cubes=cubes, perc_overlap=overlap/100.)"
   ]
  },
  {
   "cell_type": "markdown",
   "metadata": {
    "id": "c2M_0muXH1Xf"
   },
   "source": [
    "**Define clustering algorithm:**\n",
    "\n",
    "DBSCAN with default parameters. Metric: correlation distance (1 - correlation) between a pair of gene expression profiles."
   ]
  },
  {
   "cell_type": "code",
   "execution_count": 109,
   "metadata": {
    "id": "UDq-vX0XH1Xg"
   },
   "outputs": [],
   "source": [
    "# Define clustering algorithm\n",
    "clust_metric = 'correlation'\n",
    "clusterer = DBSCAN(metric=clust_metric)"
   ]
  },
  {
   "cell_type": "markdown",
   "metadata": {
    "id": "umU9bjJfH1Xg"
   },
   "source": [
    "**Construct the mapper graph:**\n",
    "\n",
    "Keep an eye on the number of hypercubes, nodes and edges reported by the algorithm. You can change the graph size by changing the cover parameters."
   ]
  },
  {
   "cell_type": "code",
   "execution_count": 110,
   "metadata": {
    "colab": {
     "base_uri": "https://localhost:8080/"
    },
    "executionInfo": {
     "elapsed": 825,
     "status": "ok",
     "timestamp": 1636579004980,
     "user": {
      "displayName": "Francisco Xavier Guerra Castillo",
      "photoUrl": "https://lh3.googleusercontent.com/a-/AOh14GjfkQgX4GMVVK-GKnbq-93Kac4gZ2DDkg8STr_S1Q=s64",
      "userId": "03477141616928095839"
     },
     "user_tz": 360
    },
    "id": "szoA2D8_H1Xg",
    "outputId": "70c62cfb-bc32-4db5-fc32-a3c05cc9af99"
   },
   "outputs": [
    {
     "name": "stdout",
     "output_type": "stream",
     "text": [
      "Mapping on data shaped (20068, 100) using lens shaped (20068, 1)\n",
      "\n",
      "Creating 100 hypercubes.\n"
     ]
    },
    {
     "name": "stderr",
     "output_type": "stream",
     "text": [
      "/001/usuarios/villasen/anaconda3/lib/python3.7/site-packages/sklearn/neighbors/_base.py:814: RuntimeWarning: invalid value encountered in less_equal\n",
      "  neigh_ind = [np.where(d <= radius)[0] for d in dist]\n",
      "/001/usuarios/villasen/anaconda3/lib/python3.7/site-packages/sklearn/neighbors/_base.py:814: RuntimeWarning: invalid value encountered in less_equal\n",
      "  neigh_ind = [np.where(d <= radius)[0] for d in dist]\n",
      "/001/usuarios/villasen/anaconda3/lib/python3.7/site-packages/sklearn/neighbors/_base.py:814: RuntimeWarning: invalid value encountered in less_equal\n",
      "  neigh_ind = [np.where(d <= radius)[0] for d in dist]\n",
      "/001/usuarios/villasen/anaconda3/lib/python3.7/site-packages/sklearn/neighbors/_base.py:814: RuntimeWarning: invalid value encountered in less_equal\n",
      "  neigh_ind = [np.where(d <= radius)[0] for d in dist]\n",
      "/001/usuarios/villasen/anaconda3/lib/python3.7/site-packages/sklearn/neighbors/_base.py:814: RuntimeWarning: invalid value encountered in less_equal\n",
      "  neigh_ind = [np.where(d <= radius)[0] for d in dist]\n",
      "/001/usuarios/villasen/anaconda3/lib/python3.7/site-packages/sklearn/neighbors/_base.py:814: RuntimeWarning: invalid value encountered in less_equal\n",
      "  neigh_ind = [np.where(d <= radius)[0] for d in dist]\n",
      "/001/usuarios/villasen/anaconda3/lib/python3.7/site-packages/sklearn/neighbors/_base.py:814: RuntimeWarning: invalid value encountered in less_equal\n",
      "  neigh_ind = [np.where(d <= radius)[0] for d in dist]\n",
      "/001/usuarios/villasen/anaconda3/lib/python3.7/site-packages/sklearn/neighbors/_base.py:814: RuntimeWarning: invalid value encountered in less_equal\n",
      "  neigh_ind = [np.where(d <= radius)[0] for d in dist]\n",
      "/001/usuarios/villasen/anaconda3/lib/python3.7/site-packages/sklearn/neighbors/_base.py:814: RuntimeWarning: invalid value encountered in less_equal\n",
      "  neigh_ind = [np.where(d <= radius)[0] for d in dist]\n"
     ]
    },
    {
     "name": "stdout",
     "output_type": "stream",
     "text": [
      "Merged 4 duplicate nodes.\n",
      "\n",
      "Number of nodes before merger: 8; after merger: 4\n",
      "\n",
      "\n",
      "Created 2 edges and 4 nodes in 0:01:46.126121.\n"
     ]
    }
   ],
   "source": [
    "# Create mapper 'graph' with nodes, edges and meta-information.\n",
    "graph = mymapper.map(lens=lens,\n",
    "                     X=df[genes],\n",
    "                     clusterer=clusterer,\n",
    "                     cover=cover,\n",
    "                     nerve=nerve,\n",
    "                     precomputed=False,\n",
    "                     remove_duplicate_nodes=True)"
   ]
  },
  {
   "cell_type": "markdown",
   "metadata": {
    "id": "6tEZ0UsiH1Xh"
   },
   "source": [
    "**Adding components to visualization**\n",
    "\n",
    "Before we visualize the constructed mapper graph, we will add a couple of components to the visualization.<br>\n",
    "First, we will color the nodes of the mapper graph using the specified factor (`color_by_factor`). The specified level (`color_by_level`) will be at one end of the colormap, all other levels will be at the other end. The node color is determined averaging the colors of all samples in the corresponding cluster."
   ]
  },
  {
   "cell_type": "code",
   "execution_count": null,
   "metadata": {},
   "outputs": [],
   "source": [
    "# # We are interested in three factors in particular: family, tissue type and stress type.\n",
    "\n",
    "# factors = ['stress', 'tissue', 'family']\n",
    "# levels = ['healthy', 'leaf', 'Poaceae']\n",
    "# filter_by_factor, filter_by_level = ('family', 'Poaceae')\n",
    "# color_by_factor, color_by_level = ('tissue', 'leaf')"
   ]
  },
  {
   "cell_type": "code",
   "execution_count": null,
   "metadata": {
    "id": "1CkiBl_NH1Xh"
   },
   "outputs": [],
   "source": [
    "# # Color nodes by specified color_by_factor, color_by_level\n",
    "\n",
    "# df[color_by_factor] = df[color_by_factor].astype('category')\n",
    "# color_vec = np.asarray([0 if(val == color_by_level) else 1 for val in df[color_by_factor]])\n",
    "# cscale = colorscale_from_matplotlib_cmap(plt.get_cmap('coolwarm'))"
   ]
  },
  {
   "cell_type": "code",
   "execution_count": null,
   "metadata": {
    "id": "_80gw1jOH1Xh"
   },
   "outputs": [],
   "source": [
    "# # show filter_by_factor levels in tooltip\n",
    "\n",
    "# temp = ['({}, {})'.format(str(p[0]), str(p[1])) for p in zip(df[filter_by_factor], df[color_by_factor])]\n",
    "# df['tooltips'] = temp"
   ]
  },
  {
   "cell_type": "markdown",
   "metadata": {
    "id": "Pr4T8JfCH1Xi"
   },
   "source": [
    "**Visualize the mapper graph**\n",
    "\n",
    "Latly, we create the visualization, save it as an html file, and then load it into a frame.<br>\n",
    "Alternatively, you can browse to the html file and open it in a separate browser window."
   ]
  },
  {
   "cell_type": "code",
   "execution_count": 57,
   "metadata": {
    "colab": {
     "base_uri": "https://localhost:8080/",
     "height": 839
    },
    "executionInfo": {
     "elapsed": 4579,
     "status": "ok",
     "timestamp": 1636577897198,
     "user": {
      "displayName": "Damián Villaseñor Amador",
      "photoUrl": "https://lh3.googleusercontent.com/a-/AOh14Ggqk0xsm9537Ect6EKfhPX7AEk63wwoSTLmiDrW5A=s64",
      "userId": "18379377199811291117"
     },
     "user_tz": 360
    },
    "id": "z6_qiRPRH1Xi",
    "outputId": "5d0a7310-993e-4521-f96c-3041f157191b"
   },
   "outputs": [
    {
     "name": "stdout",
     "output_type": "stream",
     "text": [
      "Wrote visualization to: ./100genesMapper.html\n"
     ]
    },
    {
     "data": {
      "text/html": [
       "\n",
       "        <iframe\n",
       "            width=\"1000\"\n",
       "            height=\"800\"\n",
       "            src=\"./100genesMapper.html\"\n",
       "            frameborder=\"0\"\n",
       "            allowfullscreen\n",
       "        ></iframe>\n",
       "        "
      ],
      "text/plain": [
       "<IPython.lib.display.IFrame at 0x7fcb5be52d90>"
      ]
     },
     "execution_count": 57,
     "metadata": {},
     "output_type": "execute_result"
    }
   ],
   "source": [
    "# # Specify file to save html output\n",
    "# fname = 'FilterBy_{}_ColorBy_{}_Cubes_{}_Overlap_{}.html'.format(filter_by_factor,\n",
    "#                                                               color_by_factor,\n",
    "#                                                               cubes,\n",
    "#                                                               overlap)\n",
    "# figtitle = 'Lens: {} : {}, Color by {} : {}, # Intervals {}, overlap {}'.format(filter_by_factor,\n",
    "#                                                                                 filter_by_level,\n",
    "#                                                                                 color_by_factor,\n",
    "#                                                                                 color_by_level,\n",
    "#                                                                                 cubes, overlap/100.0)\n",
    "\n",
    "fname = '100genesMapper.html' #set temporary name for the html mapper graph file\n",
    "figtitle = '100 genes Mapper' #set name for the mapper graph\n",
    "\n",
    "fpath = projdir + '/' + fname\n",
    "# Create visualization and save to specified file\n",
    "_ = mymapper.visualize(graph,\n",
    "                       path_html=fpath,\n",
    "                       title=figtitle)\n",
    "                      #  color_values=color_vec,\n",
    "                      #  color_function_name=color_by_factor,\n",
    "                      #  colorscale=cscale,\n",
    "                      #  custom_tooltips=df['tooltips'])\n",
    "\n",
    "# Load the html output file\n",
    "IFrame(src=fpath, width=1000, height=800)"
   ]
  }
 ],
 "metadata": {
  "colab": {
   "collapsed_sections": [],
   "name": "Arabidopsis_kmapper.ipynb",
   "provenance": []
  },
  "kernelspec": {
   "display_name": "base",
   "language": "python",
   "name": "base"
  },
  "language_info": {
   "codemirror_mode": {
    "name": "ipython",
    "version": 3
   },
   "file_extension": ".py",
   "mimetype": "text/x-python",
   "name": "python",
   "nbconvert_exporter": "python",
   "pygments_lexer": "ipython3",
   "version": "3.7.6"
  }
 },
 "nbformat": 4,
 "nbformat_minor": 1
}
