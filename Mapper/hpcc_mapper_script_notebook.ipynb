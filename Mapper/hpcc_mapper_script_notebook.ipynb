{
 "cells": [
  {
   "cell_type": "markdown",
   "metadata": {},
   "source": [
    "### _Arabidopsis_ gene sequence expression mapper graph with centroid lens\n",
    "\n",
    "**Imort useful packages / modules**"
   ]
  },
  {
   "cell_type": "code",
   "execution_count": 1,
   "metadata": {},
   "outputs": [],
   "source": [
    "# import sys\n",
    "import numpy as np\n",
    "import pandas as pd\n",
    "import matplotlib.pyplot as plt\n",
    "\n",
    "# ML tools\n",
    "from sklearn.cluster import DBSCAN\n",
    "from sklearn.preprocessing import MinMaxScaler\n",
    "from sklearn import ensemble\n",
    "\n",
    "# For output display\n",
    "from IPython.display import IFrame\n",
    "\n",
    "# # If running locally, set current directory as projdir\n",
    "# projdir = '.'"
   ]
  },
  {
   "cell_type": "markdown",
   "metadata": {},
   "source": [
    "**For google collab**"
   ]
  },
  {
   "cell_type": "code",
   "execution_count": 2,
   "metadata": {},
   "outputs": [],
   "source": [
    "# # Only if running in Google Colab..!!\n",
    "# # DO NOT run this cell if running locally - simply comment it out.\n",
    "# from google.colab import drive\n",
    "# drive.mount('/content/gdrive/')\n",
    "\n",
    "# projdir = '/content/gdrive/MyDrive/PlantsAndPython-2021-10-22'\n",
    "# sys.path.append(projdir)"
   ]
  },
  {
   "cell_type": "markdown",
   "metadata": {},
   "source": [
    "**Modules from Sourabh's files**"
   ]
  },
  {
   "cell_type": "code",
   "execution_count": 3,
   "metadata": {},
   "outputs": [],
   "source": [
    "# # import helper_functions\n",
    "# from helper_functions import loaddata # for data loading\n",
    "from helper_functions import colorscale_from_matplotlib_cmap # for kmapper color palette\n",
    "\n",
    "# # import Nicolaou et al. 2011 lense function\n",
    "# from lenses import fsga_transform\n",
    "\n",
    "# keppler mapper\n",
    "import kmapper as km"
   ]
  },
  {
   "cell_type": "markdown",
   "metadata": {},
   "source": [
    "**Import database**"
   ]
  },
  {
   "cell_type": "code",
   "execution_count": 9,
   "metadata": {},
   "outputs": [],
   "source": [
    "metadata = pd.read_csv(\"metadata_abovebelowtissues_centroids.csv\")\n",
    "# This database has:\n",
    "# - tissue types labeled according to the hypothesis generation group classification\n",
    "# - euclidean distances of each coordinate t-SNE point to its respective tissue type centroid\n",
    "# This database was made 24/Nov/21"
   ]
  },
  {
   "cell_type": "code",
   "execution_count": 10,
   "metadata": {},
   "outputs": [
    {
     "ename": "ParserError",
     "evalue": "Error tokenizing data. C error: Expected 37328 fields in line 908, saw 37329\n",
     "output_type": "error",
     "traceback": [
      "\u001b[0;31m---------------------------------------------------------------------------\u001b[0m",
      "\u001b[0;31mParserError\u001b[0m                               Traceback (most recent call last)",
      "\u001b[0;32m<ipython-input-10-93fbd092e445>\u001b[0m in \u001b[0;36m<module>\u001b[0;34m\u001b[0m\n\u001b[0;32m----> 1\u001b[0;31m \u001b[0mdata\u001b[0m \u001b[0;34m=\u001b[0m \u001b[0mpd\u001b[0m\u001b[0;34m.\u001b[0m\u001b[0mread_csv\u001b[0m\u001b[0;34m(\u001b[0m\u001b[0;34m\"37328_genes.csv\"\u001b[0m\u001b[0;34m)\u001b[0m\u001b[0;34m\u001b[0m\u001b[0m\n\u001b[0m\u001b[1;32m      2\u001b[0m \u001b[0;31m# This database contains 37,328 genes from the MapRateFiltered_v1.csv file in the CleanData HPCC directory\u001b[0m\u001b[0;34m\u001b[0m\u001b[0;34m\u001b[0m\u001b[0m\n\u001b[1;32m      3\u001b[0m \u001b[0;31m# This database was made 24/Nov/21\u001b[0m\u001b[0;34m\u001b[0m\u001b[0;34m\u001b[0m\u001b[0m\n",
      "\u001b[0;32m/opt/software/Python/3.6.4-foss-2018a/lib/python3.6/site-packages/pandas/io/parsers.py\u001b[0m in \u001b[0;36mread_csv\u001b[0;34m(filepath_or_buffer, sep, delimiter, header, names, index_col, usecols, squeeze, prefix, mangle_dupe_cols, dtype, engine, converters, true_values, false_values, skipinitialspace, skiprows, skipfooter, nrows, na_values, keep_default_na, na_filter, verbose, skip_blank_lines, parse_dates, infer_datetime_format, keep_date_col, date_parser, dayfirst, cache_dates, iterator, chunksize, compression, thousands, decimal, lineterminator, quotechar, quoting, doublequote, escapechar, comment, encoding, dialect, error_bad_lines, warn_bad_lines, delim_whitespace, low_memory, memory_map, float_precision)\u001b[0m\n\u001b[1;32m    686\u001b[0m     )\n\u001b[1;32m    687\u001b[0m \u001b[0;34m\u001b[0m\u001b[0m\n\u001b[0;32m--> 688\u001b[0;31m     \u001b[0;32mreturn\u001b[0m \u001b[0m_read\u001b[0m\u001b[0;34m(\u001b[0m\u001b[0mfilepath_or_buffer\u001b[0m\u001b[0;34m,\u001b[0m \u001b[0mkwds\u001b[0m\u001b[0;34m)\u001b[0m\u001b[0;34m\u001b[0m\u001b[0m\n\u001b[0m\u001b[1;32m    689\u001b[0m \u001b[0;34m\u001b[0m\u001b[0m\n\u001b[1;32m    690\u001b[0m \u001b[0;34m\u001b[0m\u001b[0m\n",
      "\u001b[0;32m/opt/software/Python/3.6.4-foss-2018a/lib/python3.6/site-packages/pandas/io/parsers.py\u001b[0m in \u001b[0;36m_read\u001b[0;34m(filepath_or_buffer, kwds)\u001b[0m\n\u001b[1;32m    458\u001b[0m \u001b[0;34m\u001b[0m\u001b[0m\n\u001b[1;32m    459\u001b[0m     \u001b[0;32mtry\u001b[0m\u001b[0;34m:\u001b[0m\u001b[0;34m\u001b[0m\u001b[0m\n\u001b[0;32m--> 460\u001b[0;31m         \u001b[0mdata\u001b[0m \u001b[0;34m=\u001b[0m \u001b[0mparser\u001b[0m\u001b[0;34m.\u001b[0m\u001b[0mread\u001b[0m\u001b[0;34m(\u001b[0m\u001b[0mnrows\u001b[0m\u001b[0;34m)\u001b[0m\u001b[0;34m\u001b[0m\u001b[0m\n\u001b[0m\u001b[1;32m    461\u001b[0m     \u001b[0;32mfinally\u001b[0m\u001b[0;34m:\u001b[0m\u001b[0;34m\u001b[0m\u001b[0m\n\u001b[1;32m    462\u001b[0m         \u001b[0mparser\u001b[0m\u001b[0;34m.\u001b[0m\u001b[0mclose\u001b[0m\u001b[0;34m(\u001b[0m\u001b[0;34m)\u001b[0m\u001b[0;34m\u001b[0m\u001b[0m\n",
      "\u001b[0;32m/opt/software/Python/3.6.4-foss-2018a/lib/python3.6/site-packages/pandas/io/parsers.py\u001b[0m in \u001b[0;36mread\u001b[0;34m(self, nrows)\u001b[0m\n\u001b[1;32m   1196\u001b[0m     \u001b[0;32mdef\u001b[0m \u001b[0mread\u001b[0m\u001b[0;34m(\u001b[0m\u001b[0mself\u001b[0m\u001b[0;34m,\u001b[0m \u001b[0mnrows\u001b[0m\u001b[0;34m=\u001b[0m\u001b[0;32mNone\u001b[0m\u001b[0;34m)\u001b[0m\u001b[0;34m:\u001b[0m\u001b[0;34m\u001b[0m\u001b[0m\n\u001b[1;32m   1197\u001b[0m         \u001b[0mnrows\u001b[0m \u001b[0;34m=\u001b[0m \u001b[0m_validate_integer\u001b[0m\u001b[0;34m(\u001b[0m\u001b[0;34m\"nrows\"\u001b[0m\u001b[0;34m,\u001b[0m \u001b[0mnrows\u001b[0m\u001b[0;34m)\u001b[0m\u001b[0;34m\u001b[0m\u001b[0m\n\u001b[0;32m-> 1198\u001b[0;31m         \u001b[0mret\u001b[0m \u001b[0;34m=\u001b[0m \u001b[0mself\u001b[0m\u001b[0;34m.\u001b[0m\u001b[0m_engine\u001b[0m\u001b[0;34m.\u001b[0m\u001b[0mread\u001b[0m\u001b[0;34m(\u001b[0m\u001b[0mnrows\u001b[0m\u001b[0;34m)\u001b[0m\u001b[0;34m\u001b[0m\u001b[0m\n\u001b[0m\u001b[1;32m   1199\u001b[0m \u001b[0;34m\u001b[0m\u001b[0m\n\u001b[1;32m   1200\u001b[0m         \u001b[0;31m# May alter columns / col_dict\u001b[0m\u001b[0;34m\u001b[0m\u001b[0;34m\u001b[0m\u001b[0m\n",
      "\u001b[0;32m/opt/software/Python/3.6.4-foss-2018a/lib/python3.6/site-packages/pandas/io/parsers.py\u001b[0m in \u001b[0;36mread\u001b[0;34m(self, nrows)\u001b[0m\n\u001b[1;32m   2155\u001b[0m     \u001b[0;32mdef\u001b[0m \u001b[0mread\u001b[0m\u001b[0;34m(\u001b[0m\u001b[0mself\u001b[0m\u001b[0;34m,\u001b[0m \u001b[0mnrows\u001b[0m\u001b[0;34m=\u001b[0m\u001b[0;32mNone\u001b[0m\u001b[0;34m)\u001b[0m\u001b[0;34m:\u001b[0m\u001b[0;34m\u001b[0m\u001b[0m\n\u001b[1;32m   2156\u001b[0m         \u001b[0;32mtry\u001b[0m\u001b[0;34m:\u001b[0m\u001b[0;34m\u001b[0m\u001b[0m\n\u001b[0;32m-> 2157\u001b[0;31m             \u001b[0mdata\u001b[0m \u001b[0;34m=\u001b[0m \u001b[0mself\u001b[0m\u001b[0;34m.\u001b[0m\u001b[0m_reader\u001b[0m\u001b[0;34m.\u001b[0m\u001b[0mread\u001b[0m\u001b[0;34m(\u001b[0m\u001b[0mnrows\u001b[0m\u001b[0;34m)\u001b[0m\u001b[0;34m\u001b[0m\u001b[0m\n\u001b[0m\u001b[1;32m   2158\u001b[0m         \u001b[0;32mexcept\u001b[0m \u001b[0mStopIteration\u001b[0m\u001b[0;34m:\u001b[0m\u001b[0;34m\u001b[0m\u001b[0m\n\u001b[1;32m   2159\u001b[0m             \u001b[0;32mif\u001b[0m \u001b[0mself\u001b[0m\u001b[0;34m.\u001b[0m\u001b[0m_first_chunk\u001b[0m\u001b[0;34m:\u001b[0m\u001b[0;34m\u001b[0m\u001b[0m\n",
      "\u001b[0;32mpandas/_libs/parsers.pyx\u001b[0m in \u001b[0;36mpandas._libs.parsers.TextReader.read\u001b[0;34m()\u001b[0m\n",
      "\u001b[0;32mpandas/_libs/parsers.pyx\u001b[0m in \u001b[0;36mpandas._libs.parsers.TextReader._read_low_memory\u001b[0;34m()\u001b[0m\n",
      "\u001b[0;32mpandas/_libs/parsers.pyx\u001b[0m in \u001b[0;36mpandas._libs.parsers.TextReader._read_rows\u001b[0;34m()\u001b[0m\n",
      "\u001b[0;32mpandas/_libs/parsers.pyx\u001b[0m in \u001b[0;36mpandas._libs.parsers.TextReader._tokenize_rows\u001b[0;34m()\u001b[0m\n",
      "\u001b[0;32mpandas/_libs/parsers.pyx\u001b[0m in \u001b[0;36mpandas._libs.parsers.raise_parser_error\u001b[0;34m()\u001b[0m\n",
      "\u001b[0;31mParserError\u001b[0m: Error tokenizing data. C error: Expected 37328 fields in line 908, saw 37329\n"
     ]
    }
   ],
   "source": [
    "data = pd.read_csv(\"37328_genes.csv\")\n",
    "# This database contains 37,328 genes from the MapRateFiltered_v1.csv file in the CleanData HPCC directory\n",
    "# This database was made 24/Nov/21"
   ]
  },
  {
   "cell_type": "markdown",
   "metadata": {},
   "source": [
    "**Subsetting gene expression columns**"
   ]
  },
  {
   "cell_type": "code",
   "execution_count": 8,
   "metadata": {},
   "outputs": [
    {
     "data": {
      "text/plain": [
       "1001"
      ]
     },
     "execution_count": 8,
     "metadata": {},
     "output_type": "execute_result"
    }
   ],
   "source": [
    "genes = list(data.columns) # create list with the gene names\n",
    "len(genes)"
   ]
  },
  {
   "cell_type": "markdown",
   "metadata": {},
   "source": [
    "**Set factors and factors levels**"
   ]
  },
  {
   "cell_type": "code",
   "execution_count": null,
   "metadata": {},
   "outputs": [],
   "source": [
    "factors = ['Tissue','VegetativeRepro','AboveBelow','Sample Type']\n",
    "levels = ['Root','Root','Below','knl2 mutant line (flowering buds)']\n",
    "\n",
    "# filter_by_factor, filter_by_level = ('Tissue', 'Root')\n",
    "# filter_by_factor, filter_by_level = ('VegetativeRepro', 'Root')\n",
    "# filter_by_factor, filter_by_level = ('AboveBelow', 'Below')\n",
    "filter_by_factor, filter_by_level = ('SampleName', 'knl2 mutant line (flowering buds)')\n",
    "\n",
    "color_by_factor, color_by_level = ('Tissue', 'Root')\n",
    "# color_by_factor, color_by_level = ('VegetativeRepro', 'Root')\n",
    "# color_by_factor, color_by_level = ('AboveBelow', 'Below')"
   ]
  },
  {
   "cell_type": "markdown",
   "metadata": {},
   "source": [
    "**Initialize a KeplerMapper object**"
   ]
  },
  {
   "cell_type": "code",
   "execution_count": 11,
   "metadata": {},
   "outputs": [
    {
     "name": "stdout",
     "output_type": "stream",
     "text": [
      "KeplerMapper(verbose=1)\n"
     ]
    }
   ],
   "source": [
    "# Initialize mapper object\n",
    "mymapper = km.KeplerMapper(verbose=1)\n",
    "\n",
    "# Define Nerve\n",
    "nerve = km.GraphNerve(min_intersection=1)"
   ]
  },
  {
   "cell_type": "markdown",
   "metadata": {},
   "source": [
    "**Define lens**\n",
    "\n",
    "According to Dan's description: _\"take the centroid/median of each tissue cluster, and the lens is the eucledian distance of each sample to its respective tissue center\"_"
   ]
  },
  {
   "cell_type": "code",
   "execution_count": null,
   "metadata": {},
   "outputs": [],
   "source": [
    "# Centroid lens\n",
    "Clens = df[\"eucl_dist\"] # the euclidean distances are found in the \"eucl_dist\" column\n",
    "lens_type = 'Centroid'\n",
    "# plt.plot(Clens) # plot the lens to see how well represents the data"
   ]
  },
  {
   "cell_type": "markdown",
   "metadata": {},
   "source": [
    "**Define cover:**\n",
    "\n",
    "Overlap must be between 0 and 100. Intervals must be less than 90: try between 25 to 85."
   ]
  },
  {
   "cell_type": "code",
   "execution_count": null,
   "metadata": {},
   "outputs": [],
   "source": [
    "# Define cover\n",
    "cubes, overlap = (100, 90) # cubes = intervals\n",
    "cover = km.cover.Cover(n_cubes=cubes, perc_overlap=overlap/100.)"
   ]
  },
  {
   "cell_type": "markdown",
   "metadata": {},
   "source": [
    "**Define clustering algorithm:**\n",
    "\n",
    "DBSCAN with default parameters. Metric: correlation distance (1 - correlation) between a pair of gene expression profiles."
   ]
  },
  {
   "cell_type": "code",
   "execution_count": null,
   "metadata": {},
   "outputs": [],
   "source": [
    "# Define clustering algorithm\n",
    "clust_metric = 'correlation'\n",
    "clusterer = DBSCAN(metric=clust_metric)"
   ]
  },
  {
   "cell_type": "markdown",
   "metadata": {},
   "source": [
    "**Construct the mapper graph:**\n",
    "\n",
    "Keep an eye on the number of hypercubes, nodes and edges reported by the algorithm. You can change the graph size by changing the cover parameters."
   ]
  },
  {
   "cell_type": "code",
   "execution_count": null,
   "metadata": {},
   "outputs": [],
   "source": [
    "# Create mapper 'graph' with nodes, edges and meta-information.\n",
    "graph = mymapper.map(lens=Clens,\n",
    "                     X=df[genes],\n",
    "                     clusterer=clusterer,\n",
    "                     cover=cover,\n",
    "                     nerve=nerve,\n",
    "                     precomputed=False,\n",
    "                     remove_duplicate_nodes=True)"
   ]
  },
  {
   "cell_type": "markdown",
   "metadata": {},
   "source": [
    "**Kmapper coloring**"
   ]
  },
  {
   "cell_type": "code",
   "execution_count": null,
   "metadata": {},
   "outputs": [],
   "source": [
    "# Color nodes by specified color_by_factor, color_by_level\n",
    "\n",
    "df[color_by_factor] = df[color_by_factor].astype('category')\n",
    "color_vec = np.asarray([0 if(val == color_by_level) else 1 for val in df[color_by_factor]])\n",
    "cscale = colorscale_from_matplotlib_cmap(plt.get_cmap('coolwarm'))"
   ]
  },
  {
   "cell_type": "markdown",
   "metadata": {},
   "source": [
    "**Set coloring levels as kmapper tooltips**"
   ]
  },
  {
   "cell_type": "code",
   "execution_count": null,
   "metadata": {},
   "outputs": [],
   "source": [
    "# show color_by_factor levels in tooltip\n",
    "\n",
    "temp = ['({}, {})'.format(str(p[0]), str(p[1])) for p in zip(df[color_by_factor], df[filter_by_factor])]\n",
    "df['tooltips'] = temp"
   ]
  },
  {
   "cell_type": "markdown",
   "metadata": {},
   "source": [
    "**Create and save kmapper graph as html**"
   ]
  },
  {
   "cell_type": "code",
   "execution_count": null,
   "metadata": {},
   "outputs": [],
   "source": [
    "# Specify file to save html output\n",
    "fname = 'LensType_{}_ColorBy_{}_Tips_{}_Data_{}_Cubes_{}_Overlap_{}_Genes_{}.html'.format(lens_type,\n",
    "                                                              color_by_factor,\n",
    "                                                              filter_by_factor,\n",
    "                                                              df_name,\n",
    "                                                              cubes,\n",
    "                                                              overlap,\n",
    "                                                              len(genes))\n",
    "\n",
    "figtitle = 'Lens type: {}, Tips {}, Color by {} ({}), Database: {}, intervals {}, overlap {}, genes {}'.format(lens_type,\n",
    "                                                                                                              filter_by_factor,\n",
    "#                                                                                                               filter_by_level,\n",
    "                                                                                                              color_by_factor,\n",
    "                                                                                                              color_by_level,\n",
    "                                                                                                              df_name,\n",
    "                                                                                                              cubes, \n",
    "                                                                                                              overlap/100.0,\n",
    "                                                                                                              len(genes))\n",
    "\n",
    "fpath = '/mnt/home/f0103237/' + fname # is this synthax correct if I run it in the HPCC?\n",
    "\n",
    "# Create visualization and save to specified file\n",
    "_ = mymapper.visualize(graph,\n",
    "                       path_html=fpath,\n",
    "                       title=figtitle,\n",
    "                       color_values=color_vec,\n",
    "                       color_function_name=color_by_factor,\n",
    "                       colorscale=cscale,\n",
    "                       custom_tooltips=df['tooltips'])\n",
    "\n",
    "# Load the html output file\n",
    "IFrame(src=fpath, width=1000, height=800)"
   ]
  }
 ],
 "metadata": {
  "kernelspec": {
   "display_name": "Python 3",
   "language": "python",
   "name": "python3"
  },
  "language_info": {
   "codemirror_mode": {
    "name": "ipython",
    "version": 3
   },
   "file_extension": ".py",
   "mimetype": "text/x-python",
   "name": "python",
   "nbconvert_exporter": "python",
   "pygments_lexer": "ipython3",
   "version": "3.6.4"
  }
 },
 "nbformat": 4,
 "nbformat_minor": 2
}
