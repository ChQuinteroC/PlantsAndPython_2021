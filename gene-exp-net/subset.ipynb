{
 "cells": [
  {
   "cell_type": "code",
   "execution_count": 1,
   "id": "30c7823a",
   "metadata": {},
   "outputs": [
    {
     "data": {
      "text/html": [
       "<div>\n",
       "<style scoped>\n",
       "    .dataframe tbody tr th:only-of-type {\n",
       "        vertical-align: middle;\n",
       "    }\n",
       "\n",
       "    .dataframe tbody tr th {\n",
       "        vertical-align: top;\n",
       "    }\n",
       "\n",
       "    .dataframe thead th {\n",
       "        text-align: right;\n",
       "    }\n",
       "</style>\n",
       "<table border=\"1\" class=\"dataframe\">\n",
       "  <thead>\n",
       "    <tr style=\"text-align: right;\">\n",
       "      <th></th>\n",
       "      <th>index</th>\n",
       "      <th>Sample</th>\n",
       "      <th>Project</th>\n",
       "      <th>SampleName</th>\n",
       "      <th>PMID</th>\n",
       "      <th>Genotype</th>\n",
       "      <th>Ecotype</th>\n",
       "      <th>Tissue</th>\n",
       "      <th>TotalReads</th>\n",
       "      <th>UniqueMappedRate</th>\n",
       "      <th>ReleaseDate</th>\n",
       "    </tr>\n",
       "  </thead>\n",
       "  <tbody>\n",
       "    <tr>\n",
       "      <th>0</th>\n",
       "      <td>1</td>\n",
       "      <td>DRX007662</td>\n",
       "      <td>PRJDB2180</td>\n",
       "      <td>Arabidopsis WT-Col mRNA_seq</td>\n",
       "      <td>23934508</td>\n",
       "      <td>wild type</td>\n",
       "      <td>Col-0</td>\n",
       "      <td>/</td>\n",
       "      <td>30664389</td>\n",
       "      <td>86.20%</td>\n",
       "      <td>4/2/2014</td>\n",
       "    </tr>\n",
       "    <tr>\n",
       "      <th>1</th>\n",
       "      <td>2</td>\n",
       "      <td>DRX007663</td>\n",
       "      <td>PRJDB2180</td>\n",
       "      <td>Arabidopsis ibm1-4 mRNA_seq</td>\n",
       "      <td>23934508</td>\n",
       "      <td>ibm1-4</td>\n",
       "      <td>Col-0</td>\n",
       "      <td>/</td>\n",
       "      <td>38551905</td>\n",
       "      <td>91.10%</td>\n",
       "      <td>4/2/2014</td>\n",
       "    </tr>\n",
       "    <tr>\n",
       "      <th>2</th>\n",
       "      <td>3</td>\n",
       "      <td>DRX007664</td>\n",
       "      <td>PRJDB2180</td>\n",
       "      <td>Arabidopsis ibm2-2 mRNA_seq</td>\n",
       "      <td>23934508</td>\n",
       "      <td>ibm2-2</td>\n",
       "      <td>Col-0</td>\n",
       "      <td>/</td>\n",
       "      <td>37223057</td>\n",
       "      <td>83.40%</td>\n",
       "      <td>4/2/2014</td>\n",
       "    </tr>\n",
       "    <tr>\n",
       "      <th>3</th>\n",
       "      <td>4</td>\n",
       "      <td>DRX014481</td>\n",
       "      <td>PRJDB1593</td>\n",
       "      <td>Y1</td>\n",
       "      <td>/</td>\n",
       "      <td>wild type</td>\n",
       "      <td>/</td>\n",
       "      <td>root</td>\n",
       "      <td>95012910</td>\n",
       "      <td>89.80%</td>\n",
       "      <td>2/5/2016</td>\n",
       "    </tr>\n",
       "    <tr>\n",
       "      <th>4</th>\n",
       "      <td>5</td>\n",
       "      <td>DRX014482</td>\n",
       "      <td>PRJDB1593</td>\n",
       "      <td>Y2</td>\n",
       "      <td>/</td>\n",
       "      <td>wild type</td>\n",
       "      <td>/</td>\n",
       "      <td>root</td>\n",
       "      <td>163269003</td>\n",
       "      <td>92.90%</td>\n",
       "      <td>2/5/2016</td>\n",
       "    </tr>\n",
       "  </tbody>\n",
       "</table>\n",
       "</div>"
      ],
      "text/plain": [
       "   index     Sample    Project                   SampleName      PMID  \\\n",
       "0      1  DRX007662  PRJDB2180  Arabidopsis WT-Col mRNA_seq  23934508   \n",
       "1      2  DRX007663  PRJDB2180  Arabidopsis ibm1-4 mRNA_seq  23934508   \n",
       "2      3  DRX007664  PRJDB2180  Arabidopsis ibm2-2 mRNA_seq  23934508   \n",
       "3      4  DRX014481  PRJDB1593                           Y1         /   \n",
       "4      5  DRX014482  PRJDB1593                           Y2         /   \n",
       "\n",
       "    Genotype Ecotype Tissue  TotalReads UniqueMappedRate ReleaseDate  \n",
       "0  wild type   Col-0      /    30664389           86.20%    4/2/2014  \n",
       "1     ibm1-4   Col-0      /    38551905           91.10%    4/2/2014  \n",
       "2     ibm2-2   Col-0      /    37223057           83.40%    4/2/2014  \n",
       "3  wild type       /   root    95012910           89.80%    2/5/2016  \n",
       "4  wild type       /   root   163269003           92.90%    2/5/2016  "
      ]
     },
     "execution_count": 1,
     "metadata": {},
     "output_type": "execute_result"
    }
   ],
   "source": [
    "import pandas as pd\n",
    "import numpy as np\n",
    "\n",
    "meta=pd.read_csv('indexed_meta.csv', header=0, index_col=0)\n",
    "meta.head()"
   ]
  },
  {
   "cell_type": "code",
   "execution_count": null,
   "id": "aac4072f",
   "metadata": {},
   "outputs": [],
   "source": [
    "### R didn't mind the original formatting but python's a lil less forgiving"
   ]
  },
  {
   "cell_type": "code",
   "execution_count": 3,
   "id": "6821ec18",
   "metadata": {},
   "outputs": [
    {
     "data": {
      "text/html": [
       "<div>\n",
       "<style scoped>\n",
       "    .dataframe tbody tr th:only-of-type {\n",
       "        vertical-align: middle;\n",
       "    }\n",
       "\n",
       "    .dataframe tbody tr th {\n",
       "        vertical-align: top;\n",
       "    }\n",
       "\n",
       "    .dataframe thead th {\n",
       "        text-align: right;\n",
       "    }\n",
       "</style>\n",
       "<table border=\"1\" class=\"dataframe\">\n",
       "  <thead>\n",
       "    <tr style=\"text-align: right;\">\n",
       "      <th></th>\n",
       "      <th>index</th>\n",
       "      <th>Sample</th>\n",
       "      <th>Project</th>\n",
       "      <th>SampleName</th>\n",
       "      <th>PMID</th>\n",
       "      <th>Genotype</th>\n",
       "      <th>Ecotype</th>\n",
       "      <th>Tissue</th>\n",
       "      <th>TotalReads</th>\n",
       "      <th>UniqueMappedRate</th>\n",
       "      <th>ReleaseDate</th>\n",
       "    </tr>\n",
       "  </thead>\n",
       "  <tbody>\n",
       "    <tr>\n",
       "      <th>0</th>\n",
       "      <td>1</td>\n",
       "      <td>DRX007662</td>\n",
       "      <td>PRJDB2180</td>\n",
       "      <td>Arabidopsis WT-Col mRNA_seq</td>\n",
       "      <td>23934508</td>\n",
       "      <td>wild type</td>\n",
       "      <td>Col-0</td>\n",
       "      <td>/</td>\n",
       "      <td>30664389</td>\n",
       "      <td>86.2</td>\n",
       "      <td>4/2/2014</td>\n",
       "    </tr>\n",
       "    <tr>\n",
       "      <th>1</th>\n",
       "      <td>2</td>\n",
       "      <td>DRX007663</td>\n",
       "      <td>PRJDB2180</td>\n",
       "      <td>Arabidopsis ibm1-4 mRNA_seq</td>\n",
       "      <td>23934508</td>\n",
       "      <td>ibm1-4</td>\n",
       "      <td>Col-0</td>\n",
       "      <td>/</td>\n",
       "      <td>38551905</td>\n",
       "      <td>91.1</td>\n",
       "      <td>4/2/2014</td>\n",
       "    </tr>\n",
       "    <tr>\n",
       "      <th>2</th>\n",
       "      <td>3</td>\n",
       "      <td>DRX007664</td>\n",
       "      <td>PRJDB2180</td>\n",
       "      <td>Arabidopsis ibm2-2 mRNA_seq</td>\n",
       "      <td>23934508</td>\n",
       "      <td>ibm2-2</td>\n",
       "      <td>Col-0</td>\n",
       "      <td>/</td>\n",
       "      <td>37223057</td>\n",
       "      <td>83.4</td>\n",
       "      <td>4/2/2014</td>\n",
       "    </tr>\n",
       "    <tr>\n",
       "      <th>3</th>\n",
       "      <td>4</td>\n",
       "      <td>DRX014481</td>\n",
       "      <td>PRJDB1593</td>\n",
       "      <td>Y1</td>\n",
       "      <td>/</td>\n",
       "      <td>wild type</td>\n",
       "      <td>/</td>\n",
       "      <td>root</td>\n",
       "      <td>95012910</td>\n",
       "      <td>89.8</td>\n",
       "      <td>2/5/2016</td>\n",
       "    </tr>\n",
       "    <tr>\n",
       "      <th>4</th>\n",
       "      <td>5</td>\n",
       "      <td>DRX014482</td>\n",
       "      <td>PRJDB1593</td>\n",
       "      <td>Y2</td>\n",
       "      <td>/</td>\n",
       "      <td>wild type</td>\n",
       "      <td>/</td>\n",
       "      <td>root</td>\n",
       "      <td>163269003</td>\n",
       "      <td>92.9</td>\n",
       "      <td>2/5/2016</td>\n",
       "    </tr>\n",
       "  </tbody>\n",
       "</table>\n",
       "</div>"
      ],
      "text/plain": [
       "   index     Sample    Project                   SampleName      PMID  \\\n",
       "0      1  DRX007662  PRJDB2180  Arabidopsis WT-Col mRNA_seq  23934508   \n",
       "1      2  DRX007663  PRJDB2180  Arabidopsis ibm1-4 mRNA_seq  23934508   \n",
       "2      3  DRX007664  PRJDB2180  Arabidopsis ibm2-2 mRNA_seq  23934508   \n",
       "3      4  DRX014481  PRJDB1593                           Y1         /   \n",
       "4      5  DRX014482  PRJDB1593                           Y2         /   \n",
       "\n",
       "    Genotype Ecotype Tissue  TotalReads  UniqueMappedRate ReleaseDate  \n",
       "0  wild type   Col-0      /    30664389              86.2    4/2/2014  \n",
       "1     ibm1-4   Col-0      /    38551905              91.1    4/2/2014  \n",
       "2     ibm2-2   Col-0      /    37223057              83.4    4/2/2014  \n",
       "3  wild type       /   root    95012910              89.8    2/5/2016  \n",
       "4  wild type       /   root   163269003              92.9    2/5/2016  "
      ]
     },
     "execution_count": 3,
     "metadata": {},
     "output_type": "execute_result"
    }
   ],
   "source": [
    "meta['UniqueMappedRate'] = meta['UniqueMappedRate'].str.rstrip('%').astype('float') #UMR was held as string with % appended so get rid of that & convert to float\n",
    "meta.head()"
   ]
  },
  {
   "cell_type": "code",
   "execution_count": null,
   "id": "f5bc5ecd",
   "metadata": {},
   "outputs": [],
   "source": [
    "### cut that mess down a little"
   ]
  },
  {
   "cell_type": "code",
   "execution_count": null,
   "id": "deeeeadb",
   "metadata": {},
   "outputs": [],
   "source": [
    "### by unique mapped rate, here > 90% bc i wanted smaller data to play with locally\n",
    "### just change umr_thresh to whatever your preferred cutoff is\n",
    "### >90% drops\n",
    "\n",
    "### keeping this cut across all subsequent filters, but doing the rest seperately & compiling at end\n",
    "\n",
    "umr_thresh=90\n",
    "meta_by_umr=meta[meta[\"UniqueMappedRate\"] > umr_thresh]\n",
    "meta_by_umr.head()"
   ]
  },
  {
   "cell_type": "code",
   "execution_count": 127,
   "id": "02a78eb6",
   "metadata": {},
   "outputs": [
    {
     "name": "stdout",
     "output_type": "stream",
     "text": [
      "28164 samples reduced to 6930 by filtering unique mapped read rate\n",
      "Total number of samples reduced by  75.3941201533873 %.\n"
     ]
    }
   ],
   "source": [
    "#just for reference, how many samples made it past that cut?\n",
    "complete=len(meta)\n",
    "by_umr=len(meta_by_umr)\n",
    "print(complete, \"samples reduced to\", by_umr, \"by filtering unique mapped read rate\\nTotal number of samples reduced by \",((1-(by_umr/complete))*100),\"%.\")"
   ]
  },
  {
   "cell_type": "code",
   "execution_count": null,
   "id": "6df49576",
   "metadata": {},
   "outputs": [],
   "source": [
    "### by ecotype\n",
    "\n",
    "### example is just Col-0 & some others with low counts bc i wanted a smaller data set.. & to show filtering by multiple ecotypes at the same time"
   ]
  },
  {
   "cell_type": "code",
   "execution_count": null,
   "id": "9e48b849",
   "metadata": {},
   "outputs": [],
   "source": [
    "### first let's see what options we have\n",
    "\n",
    "ecotypes=meta[\"Ecotype\"].value_counts() # unique ecotype entries in the full meta & how many are named this\n",
    "ecotypes=ecotypes.to_frame()\n",
    "ecotypes.head()  #note that this has 1529 entries.."
   ]
  },
  {
   "cell_type": "code",
   "execution_count": 129,
   "id": "05674319",
   "metadata": {},
   "outputs": [
    {
     "data": {
      "text/plain": [
       "Col-0               5880\n",
       "Col-4                 32\n",
       "Landsberg erecta      11\n",
       "Name: Ecotype, dtype: int64"
      ]
     },
     "execution_count": 129,
     "metadata": {},
     "output_type": "execute_result"
    }
   ],
   "source": [
    "### now subset. \n",
    "### i'm using str.fullmatch() for exact str matching, but could use str.match() or str.contains() for wider search\n",
    "### remember that this is coded for data already filtered by UMR while the list above was not\n",
    "### some strings will not return results here unless you change it to read from the full meta\n",
    "\n",
    "#be careful with this if selecting weirdly named ones. you might need to do them seperately & merge your results..\n",
    "\n",
    "eco_to_keep=\"Col-0|Col-4|Landsberg erecta\" #set strings to include, use as many or few as you want. just put | operators btwn strings without spaces like shown\n",
    "meta_by_eco=meta_by_umr[meta_by_umr[\"Ecotype\"].astype(str).str.fullmatch(eco_to_keep)] \n",
    "meta_by_eco[\"Ecotype\"].value_counts() #print what's in the resulting df to check that it worked"
   ]
  },
  {
   "cell_type": "code",
   "execution_count": 109,
   "id": "e3f8a97e",
   "metadata": {},
   "outputs": [
    {
     "name": "stdout",
     "output_type": "stream",
     "text": [
      "6930 samples reduced to 5923 after filtering by ecotype\n",
      "number of samples reduced by  14.531024531024528 %.\n"
     ]
    }
   ],
   "source": [
    "### samples left\n",
    "by_eco=len(meta_by_eco)\n",
    "print(by_umr, \"samples reduced to\", by_eco, \"after filtering by ecotype\\nnumber of samples reduced by \",((1-(by_eco/by_umr))*100),\"%.\")"
   ]
  },
  {
   "cell_type": "code",
   "execution_count": null,
   "id": "73eef467",
   "metadata": {},
   "outputs": [],
   "source": [
    "### by genotype\n",
    "\n",
    "### example is just wild type(s) bc it's essentially the same as by ecotype"
   ]
  },
  {
   "cell_type": "code",
   "execution_count": 128,
   "id": "ec45b579",
   "metadata": {},
   "outputs": [],
   "source": [
    "###check the options\n",
    "\n",
    "genotypes=meta[\"Genotype\"].value_counts() # unique genotype entries in the full meta & how many are named this\n",
    "genotypes=genotypes.to_frame()\n",
    "genotypes.head()  #note that this has 2076 entries "
   ]
  },
  {
   "cell_type": "code",
   "execution_count": 59,
   "id": "0e6c4f78",
   "metadata": {},
   "outputs": [
    {
     "data": {
      "text/plain": [
       "wild type    1498\n",
       "Wild type     103\n",
       "Wild Type      10\n",
       "wild-type       9\n",
       "Name: Genotype, dtype: int64"
      ]
     },
     "execution_count": 59,
     "metadata": {},
     "output_type": "execute_result"
    }
   ],
   "source": [
    "### subset\n",
    "geno_to_keep=\"wild type|Wild type|wild-type|Wild Type\" #set strings to include, use as many or few as you want. just put | operators btwn strings without spaces like shown\n",
    "meta_by_geno=meta_by_umr[meta_by_umr[\"Genotype\"].astype(str).str.fullmatch(geno_to_keep)] \n",
    "meta_by_geno[\"Genotype\"].value_counts() #print what's in the resulting df to check that it worked"
   ]
  },
  {
   "cell_type": "code",
   "execution_count": 110,
   "id": "f264a63b",
   "metadata": {},
   "outputs": [
    {
     "name": "stdout",
     "output_type": "stream",
     "text": [
      "6930 samples reduced to 1620 after filtering by genotype\n",
      "number of samples reduced by  76.62337662337663 %.\n"
     ]
    }
   ],
   "source": [
    "### samples left\n",
    "by_geno=len(meta_by_geno)\n",
    "print(by_umr, \"samples reduced to\", by_geno, \"after filtering by genotype\\nnumber of samples reduced by \",((1-(by_geno/by_umr))*100),\"%.\")"
   ]
  },
  {
   "cell_type": "code",
   "execution_count": null,
   "id": "523dd382",
   "metadata": {},
   "outputs": [],
   "source": [
    "### by tissue\n",
    "\n",
    "### example is just root bc it's basically the same again"
   ]
  },
  {
   "cell_type": "code",
   "execution_count": 130,
   "id": "ff550d67",
   "metadata": {
    "scrolled": true
   },
   "outputs": [],
   "source": [
    "###check the options\n",
    "\n",
    "tissues=meta[\"Tissue\"].value_counts() # unique tissue entries in the full meta & how many are named this\n",
    "tissues=tissues.to_frame()\n",
    "tissues.head()  #note that this has 333 entries"
   ]
  },
  {
   "cell_type": "code",
   "execution_count": 63,
   "id": "14c7a3c1",
   "metadata": {},
   "outputs": [
    {
     "data": {
      "text/plain": [
       "root                   461\n",
       "root tip                37\n",
       "roots                   36\n",
       "root tips               15\n",
       "seedling root            7\n",
       "root QC cells            7\n",
       "root tissue              6\n",
       "whole root               6\n",
       "root and leaf            6\n",
       "7-day-old root tips      4\n",
       "root hair                3\n",
       "leaf, stem, root         3\n",
       "10 day old roots         1\n",
       "1cm long root tips       1\n",
       "Name: Tissue, dtype: int64"
      ]
     },
     "execution_count": 63,
     "metadata": {},
     "output_type": "execute_result"
    }
   ],
   "source": [
    "### doing this a little different bc variations in naming are more likely to be unintentional here\n",
    "### previous examples are written using str.fullmatch() but changing that to str.contains()\n",
    "### returns all versions that contain string, here 'root' as example\n",
    "\n",
    "tissue_to_keep=\"root\" #set strings to include, use as many or few as you want. just put | operators btwn strings without spaces like shown\n",
    "meta_by_tissue=meta_by_umr[meta_by_umr[\"Tissue\"].astype(str).str.contains(tissue_to_keep)] \n",
    "meta_by_tissue[\"Tissue\"].value_counts() #print what's in the resulting df to check that it worked"
   ]
  },
  {
   "cell_type": "code",
   "execution_count": 112,
   "id": "3c85f1b0",
   "metadata": {},
   "outputs": [
    {
     "name": "stdout",
     "output_type": "stream",
     "text": [
      "6930 samples reduced to 593 after filtering by tissue\n",
      "number of samples reduced by  91.44300144300144 %.\n"
     ]
    }
   ],
   "source": [
    "### samples left\n",
    "by_tissue=len(meta_by_tissue)\n",
    "print(by_umr, \"samples reduced to\", by_tissue, \"after filtering by tissue\\nnumber of samples reduced by \",((1-(by_tissue/by_umr))*100),\"%.\")"
   ]
  },
  {
   "cell_type": "code",
   "execution_count": 131,
   "id": "e0aaea46",
   "metadata": {},
   "outputs": [
    {
     "name": "stdout",
     "output_type": "stream",
     "text": [
      "6930 samples reduced to 113 after filtering by ecotype, genotype, & tissue\n",
      "filtering by ecotype removed 1007 samples\n",
      "filtering by genotype removed an additional 4303 samples\n",
      "filtering by tissue removed an additional 2869 samples\n",
      "number of samples reduced by  98.36940836940838 %.\n"
     ]
    }
   ],
   "source": [
    "### combine filters\n",
    "### i would personally just take each subset from the output of the one before it since this would use less computational resources\n",
    "### but for the sake of demonstration i took each subset from the whole UMR filtered set\n",
    "\n",
    "meta_eco_geno=meta_by_eco.merge(meta_by_geno, how='inner') # merge result is only those shared between the two df\n",
    "meta_eco_geno_tissue=meta_eco_geno.merge(meta_by_tissue, how='inner')\n",
    "\n",
    "### samples left\n",
    "by_ecoxgeno=len(meta_eco_geno)\n",
    "by_all=len(meta_eco_geno_tissue)\n",
    "print(by_umr, \"samples reduced to\", by_all, \"after filtering by ecotype, genotype, & tissue\\nfiltering by ecotype removed\", (by_umr-by_eco), \"samples\\nfiltering by genotype removed an additional\", (by_eco-by_geno), \"samples\\nfiltering by tissue removed an additional\", (by_eco-by_geno-by_ecoxgeno), \"samples\\nnumber of samples reduced by \",((1-(by_all/by_umr))*100),\"%.\")\n",
    "meta_eco_geno_tissue.head(20)"
   ]
  },
  {
   "cell_type": "code",
   "execution_count": 154,
   "id": "ec9e8469",
   "metadata": {},
   "outputs": [
    {
     "name": "stdout",
     "output_type": "stream",
     "text": [
      "awk -F, '{OFS=\",\";print $1, $160, $161, $162, $1038, $2521, $3910, $3911, $3914, $3915, $3918, $3919, $3922, $3926, $3930, $3931, $3936, $4481, $7952, $7953, $9095, $9097, $9101, $9102, $9103, $9264, $10484, $10499, $10500, $13541, $14342, $14344, $14345, $15371, $15372, $15373, $15374, $15376, $15646, $15647, $15648, $15649, $17000, $17001, $17004, $17005, $17696, $17697, $17698, $17702, $17703, $17704, $17954, $17955, $20746, $20754, $20755, $20758, $20759, $22045, $22046, $22047, $22991, $22992, $22994, $23235, $23236, $23237, $23238, $23239, $23240, $23241, $23242, $23243, $23273, $24846, $24847, $25028, $25040, $25041, $25042, $25043, $25044, $25121, $25122, $25123, $25265, $25267, $25269, $25270, $27601, $27602, $27774, $27775, $27776, $27984, $27985, $27994, $27995, $27996, $27997, $28016, $28017, $28018, $28019, $28034, $28035, $28036, $28039, $28040, $28041, $28044, $28045, $28046 }' gene_FPKM_200501.csv > subset.csv\n"
     ]
    }
   ],
   "source": [
    "### almost there, yay!\n",
    "### now we need to be able to get those samples pulled from the data on hpcc\n",
    "### let's see if we can get the whole bash command printed for an easy copypasta\n",
    "\n",
    "subset=meta_eco_geno_tissue #chonky name is annoying\n",
    "\n",
    "subset_index=subset['index'] # list the index numbers of subset\n",
    "subindx2=subset_index+1 # +1 bc awk starts at 1 & first column is geneIDs\n",
    "indx=subindx2.astype(str).tolist() #make it a list of strings so we can format it how awk likes\n",
    "awk_index = [\"$\"+ n for n in indx] #add $ to index for awk (i think this tells it to pick columns? not sure tbh)\n",
    "\n",
    "print(\"awk -F, \\'{OFS=\\\",\\\";print $1,\", ', '.join(awk_index), \"}\\' gene_FPKM_200501.csv > subset.csv\") # print the whole bash cmd\n",
    "\n",
    "### & there's your bash cmd that should be able to run on a dev node unless your final subset is really big\n",
    "### probably should either run this on a copy of the full data in your home directory on hpcc or specify full output path\n",
    "### just make sure to replace subset.csv with something more meaningful"
   ]
  },
  {
   "cell_type": "code",
   "execution_count": null,
   "id": "d6de504a",
   "metadata": {},
   "outputs": [],
   "source": [
    "### hopefully someone gets some use out of this, it's a lot cleaner & more informative than the initial R version i wrote\n",
    "### i'll also share a cut down .py version of this on github so that it's easier to run (just make sure to adjust parameters, use the indexed metadata, & adjust your output file name)\n",
    "\n",
    "### parameters that should definitely be adjusted: umr_thresh, eco_to_keep, geno_to_keep, tissue_to_keep\n",
    "### additional adjustments: str.fullmatch() vs str.match() vs str.contains() when filtering by category\n",
    "###                         how (or if) you merge results.. merging all 3 filters is shown but could do any two, or could skip that step via serial filtering\n",
    "\n",
    "### the code to extract the example subset (113 of the original 28164 samples) took 1m38s on a dev-amd20 node\n",
    "### not sure how this scales, but subsets up to ~5k samples should be safe to run on a dev node\n",
    "### depending on workflow it might be a good idea to follow this up with a modified version of my filter.py script to remove genes with consistently low expression.. just make sure to bypass the log2 transformation"
   ]
  }
 ],
 "metadata": {
  "kernelspec": {
   "display_name": "Python 3",
   "language": "python",
   "name": "python3"
  },
  "language_info": {
   "codemirror_mode": {
    "name": "ipython",
    "version": 3
   },
   "file_extension": ".py",
   "mimetype": "text/x-python",
   "name": "python",
   "nbconvert_exporter": "python",
   "pygments_lexer": "ipython3",
   "version": "3.8.8"
  }
 },
 "nbformat": 4,
 "nbformat_minor": 5
}
